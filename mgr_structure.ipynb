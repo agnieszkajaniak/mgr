{
 "cells": [
  {
   "cell_type": "markdown",
   "metadata": {},
   "source": [
    "1. Wstęp - po co to robię\n",
    "2. Obszar badań \n",
    "Punkt, kiedy , kto i w jakim celu pobrał dane, nazwa projektu badawczego\n",
    "3. Charakterystyka danych\n",
    " preprocessing\n",
    " eksploracyjna analiza danych\n",
    " opisy, wykresy,\n",
    "4. Metody badań \n",
    "co to jest ML\n",
    "opis algorytmów\n",
    "...\n",
    "5. Modelowanie predykcyjne stanu wód grutowych\n",
    "wstępna analiza - tableka z wynikami dla poszczególnych klasyfikatorów\n",
    "optymalizacjia parametrów modelu\n",
    "wybór optymalnych parametrów\n",
    "dyskysja wyników - który najlepszy i dlaczego\n",
    "6. Wyniki\n",
    "dlaczego, co \n",
    "wykresy pionowe pokazujace przebied rzeczywistych danych i danych po predykcji\n",
    "7. Podsumowanie i wnioski"
   ]
  },
  {
   "cell_type": "code",
   "execution_count": null,
   "metadata": {},
   "outputs": [],
   "source": []
  }
 ],
 "metadata": {
  "kernelspec": {
   "display_name": "Python 3",
   "language": "python",
   "name": "python3"
  },
  "language_info": {
   "codemirror_mode": {
    "name": "ipython",
    "version": 3
   },
   "file_extension": ".py",
   "mimetype": "text/x-python",
   "name": "python",
   "nbconvert_exporter": "python",
   "pygments_lexer": "ipython3",
   "version": "3.6.5"
  }
 },
 "nbformat": 4,
 "nbformat_minor": 2
}
