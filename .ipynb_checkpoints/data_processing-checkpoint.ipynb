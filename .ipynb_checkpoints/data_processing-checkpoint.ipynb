{
 "cells": [
  {
   "cell_type": "code",
   "execution_count": 1,
   "metadata": {},
   "outputs": [],
   "source": [
    "import pandas as pd\n",
    "import numpy as np\n",
    "import scipy\n",
    "from datetime import datetime\n",
    "from datetime import timedelta\n",
    "import matplotlib.pyplot as plt\n",
    "%matplotlib inline"
   ]
  },
  {
   "cell_type": "code",
   "execution_count": 2,
   "metadata": {},
   "outputs": [],
   "source": [
    "#wczytanie i zlaczenie plikow\n",
    "allFiles = ['dane.csv', 'dane2.csv', 'dane3.csv']\n",
    "data = []\n",
    "for f in allFiles:\n",
    "    df = pd.read_csv(f, sep=';')\n",
    "    data.append(df)\n",
    "frame = pd.merge(data[0], data[1], on='Data')\n",
    "frame = pd.merge(frame, data[2], on='Data')"
   ]
  },
  {
   "cell_type": "code",
   "execution_count": 3,
   "metadata": {},
   "outputs": [],
   "source": [
    "#zmiana nazw kolumn\n",
    "columns = { 'Data' : 'date', 'poziom wody w piezometrze B1 npm [cm]': 'waterlv',\n",
    "            'temperatura wody w piezometrze B1 [C]': 'watertemp',\n",
    "            'poziom morza': 'sealv',\n",
    "            'Opady' : 'precip', 'Temperatura powietrza [C]': 'temp',\n",
    "            'Prędkość wiatru' : 'vwind', 'Kierunek wiatru' : 'dwind' }\n",
    "frame = frame[list(columns.keys())].rename(columns=columns)"
   ]
  },
  {
   "cell_type": "code",
   "execution_count": 4,
   "metadata": {},
   "outputs": [
    {
     "data": {
      "text/html": [
       "<div>\n",
       "<style scoped>\n",
       "    .dataframe tbody tr th:only-of-type {\n",
       "        vertical-align: middle;\n",
       "    }\n",
       "\n",
       "    .dataframe tbody tr th {\n",
       "        vertical-align: top;\n",
       "    }\n",
       "\n",
       "    .dataframe thead th {\n",
       "        text-align: right;\n",
       "    }\n",
       "</style>\n",
       "<table border=\"1\" class=\"dataframe\">\n",
       "  <thead>\n",
       "    <tr style=\"text-align: right;\">\n",
       "      <th></th>\n",
       "      <th>date</th>\n",
       "      <th>waterlv</th>\n",
       "      <th>watertemp</th>\n",
       "      <th>sealv</th>\n",
       "      <th>precip</th>\n",
       "      <th>temp</th>\n",
       "      <th>vwind</th>\n",
       "      <th>dwind</th>\n",
       "    </tr>\n",
       "  </thead>\n",
       "  <tbody>\n",
       "    <tr>\n",
       "      <th>0</th>\n",
       "      <td>2008-09-23</td>\n",
       "      <td>67.21</td>\n",
       "      <td>12.57</td>\n",
       "      <td>493.50</td>\n",
       "      <td>0.0</td>\n",
       "      <td>12.13</td>\n",
       "      <td>3.88</td>\n",
       "      <td>66.25</td>\n",
       "    </tr>\n",
       "    <tr>\n",
       "      <th>1</th>\n",
       "      <td>2008-09-24</td>\n",
       "      <td>66.29</td>\n",
       "      <td>12.56</td>\n",
       "      <td>490.67</td>\n",
       "      <td>0.0</td>\n",
       "      <td>10.86</td>\n",
       "      <td>4.50</td>\n",
       "      <td>53.75</td>\n",
       "    </tr>\n",
       "    <tr>\n",
       "      <th>2</th>\n",
       "      <td>2008-09-25</td>\n",
       "      <td>65.21</td>\n",
       "      <td>12.54</td>\n",
       "      <td>486.67</td>\n",
       "      <td>0.0</td>\n",
       "      <td>10.05</td>\n",
       "      <td>2.63</td>\n",
       "      <td>30.00</td>\n",
       "    </tr>\n",
       "  </tbody>\n",
       "</table>\n",
       "</div>"
      ],
      "text/plain": [
       "         date  waterlv  watertemp   sealv  precip   temp  vwind  dwind\n",
       "0  2008-09-23    67.21      12.57  493.50     0.0  12.13   3.88  66.25\n",
       "1  2008-09-24    66.29      12.56  490.67     0.0  10.86   4.50  53.75\n",
       "2  2008-09-25    65.21      12.54  486.67     0.0  10.05   2.63  30.00"
      ]
     },
     "execution_count": 4,
     "metadata": {},
     "output_type": "execute_result"
    }
   ],
   "source": [
    "frame[0:3]"
   ]
  },
  {
   "cell_type": "code",
   "execution_count": 5,
   "metadata": {},
   "outputs": [
    {
     "data": {
      "text/plain": [
       "<matplotlib.axes._subplots.AxesSubplot at 0x7f14a4457390>"
      ]
     },
     "execution_count": 5,
     "metadata": {},
     "output_type": "execute_result"
    },
    {
     "data": {
      "image/png": "[encoded data removed]",
      "text/plain": [
       "<Figure size 432x288 with 1 Axes>"
      ]
     },
     "metadata": {},
     "output_type": "display_data"
    }
   ],
   "source": [
    "#wykres zmiany poziomu morza w czasie\n",
    "frame.plot(x='date', y='sealv')"
   ]
  },
  {
   "cell_type": "code",
   "execution_count": 6,
   "metadata": {},
   "outputs": [
    {
     "data": {
      "text/plain": [
       "<matplotlib.axes._subplots.AxesSubplot at 0x7f14a23940f0>"
      ]
     },
     "execution_count": 6,
     "metadata": {},
     "output_type": "execute_result"
    },
    {
     "data": {
      "image/png": "[encoded data removed]",
      "text/plain": [
       "<Figure size 432x288 with 1 Axes>"
      ]
     },
     "metadata": {},
     "output_type": "display_data"
    }
   ],
   "source": [
    "#wykres poziom wody w piezometrze w stosunku do poziomu wody w morzu\n",
    "frame.plot(x='waterlv', y='sealv', style='ro', alpha=0.1)"
   ]
  },
  {
   "cell_type": "code",
   "execution_count": 7,
   "metadata": {},
   "outputs": [
    {
     "name": "stdout",
     "output_type": "stream",
     "text": [
      "datetime64[ns]\n"
     ]
    },
    {
     "name": "stderr",
     "output_type": "stream",
     "text": [
      "/home/agnieszka/anaconda3/lib/python3.6/site-packages/ipykernel_launcher.py:6: FutureWarning: how in .resample() is deprecated\n",
      "the new syntax is .resample(...).sum()\n",
      "  \n"
     ]
    }
   ],
   "source": [
    "#zamiana kolumny z datami na typ datetime\n",
    "frame['date'] = pd.to_datetime(frame['date'])\n",
    "print (frame['date'].dtype)\n",
    "frame.set_index(frame[\"date\"],inplace=True)\n",
    "#suma poziomu wody w piezometrze dla miesiecy\n",
    "df1 = frame['waterlv'].resample('M', how='sum')"
   ]
  },
  {
   "cell_type": "code",
   "execution_count": 8,
   "metadata": {},
   "outputs": [],
   "source": [
    "#zamiana wartosci kierunku wiatru w stopniach na symbole\n",
    "def wiatr(angle):\n",
    "    if angle <= 22.5:\n",
    "        return 'N'\n",
    "    elif angle > 22.5 and angle <= 67.5:\n",
    "        return 'NE'\n",
    "    elif angle > 67.5 and angle <= 112.5:\n",
    "        return 'E'\n",
    "    elif angle > 112.5 and angle <= 157.5:\n",
    "        return 'SE'\n",
    "    elif angle > 157.5 and angle <= 202.5:\n",
    "        return 'S'\n",
    "    elif angle > 202.5 and angle <= 247.5:\n",
    "        return 'SW'\n",
    "    elif angle > 247.5 and angle <= 292.5:\n",
    "        return 'W'\n",
    "    elif angle > 292.5 and angle <= 337.5:\n",
    "        return 'NW'\n",
    "    else:\n",
    "        return 'N'\n",
    "    \n",
    "frame['wind'] = frame['dwind'].apply(wiatr)"
   ]
  },
  {
   "cell_type": "code",
   "execution_count": 9,
   "metadata": {
    "scrolled": true
   },
   "outputs": [
    {
     "data": {
      "text/html": [
       "<div>\n",
       "<style scoped>\n",
       "    .dataframe tbody tr th:only-of-type {\n",
       "        vertical-align: middle;\n",
       "    }\n",
       "\n",
       "    .dataframe tbody tr th {\n",
       "        vertical-align: top;\n",
       "    }\n",
       "\n",
       "    .dataframe thead th {\n",
       "        text-align: right;\n",
       "    }\n",
       "</style>\n",
       "<table border=\"1\" class=\"dataframe\">\n",
       "  <thead>\n",
       "    <tr style=\"text-align: right;\">\n",
       "      <th></th>\n",
       "      <th>date</th>\n",
       "      <th>waterlv</th>\n",
       "      <th>watertemp</th>\n",
       "      <th>sealv</th>\n",
       "      <th>precip</th>\n",
       "      <th>temp</th>\n",
       "      <th>vwind</th>\n",
       "      <th>dwind</th>\n",
       "      <th>wind</th>\n",
       "    </tr>\n",
       "    <tr>\n",
       "      <th>date</th>\n",
       "      <th></th>\n",
       "      <th></th>\n",
       "      <th></th>\n",
       "      <th></th>\n",
       "      <th></th>\n",
       "      <th></th>\n",
       "      <th></th>\n",
       "      <th></th>\n",
       "      <th></th>\n",
       "    </tr>\n",
       "  </thead>\n",
       "  <tbody>\n",
       "    <tr>\n",
       "      <th>2008-09-23</th>\n",
       "      <td>2008-09-23</td>\n",
       "      <td>67.21</td>\n",
       "      <td>12.57</td>\n",
       "      <td>493.50</td>\n",
       "      <td>0.0</td>\n",
       "      <td>12.13</td>\n",
       "      <td>3.88</td>\n",
       "      <td>66.25</td>\n",
       "      <td>NE</td>\n",
       "    </tr>\n",
       "    <tr>\n",
       "      <th>2008-09-24</th>\n",
       "      <td>2008-09-24</td>\n",
       "      <td>66.29</td>\n",
       "      <td>12.56</td>\n",
       "      <td>490.67</td>\n",
       "      <td>0.0</td>\n",
       "      <td>10.86</td>\n",
       "      <td>4.50</td>\n",
       "      <td>53.75</td>\n",
       "      <td>NE</td>\n",
       "    </tr>\n",
       "    <tr>\n",
       "      <th>2008-09-25</th>\n",
       "      <td>2008-09-25</td>\n",
       "      <td>65.21</td>\n",
       "      <td>12.54</td>\n",
       "      <td>486.67</td>\n",
       "      <td>0.0</td>\n",
       "      <td>10.05</td>\n",
       "      <td>2.63</td>\n",
       "      <td>30.00</td>\n",
       "      <td>NE</td>\n",
       "    </tr>\n",
       "    <tr>\n",
       "      <th>2008-09-26</th>\n",
       "      <td>2008-09-26</td>\n",
       "      <td>64.33</td>\n",
       "      <td>12.53</td>\n",
       "      <td>481.00</td>\n",
       "      <td>0.0</td>\n",
       "      <td>9.54</td>\n",
       "      <td>1.88</td>\n",
       "      <td>212.50</td>\n",
       "      <td>SW</td>\n",
       "    </tr>\n",
       "    <tr>\n",
       "      <th>2008-09-27</th>\n",
       "      <td>2008-09-27</td>\n",
       "      <td>63.40</td>\n",
       "      <td>12.51</td>\n",
       "      <td>480.67</td>\n",
       "      <td>0.0</td>\n",
       "      <td>13.00</td>\n",
       "      <td>6.63</td>\n",
       "      <td>242.50</td>\n",
       "      <td>SW</td>\n",
       "    </tr>\n",
       "    <tr>\n",
       "      <th>2008-09-28</th>\n",
       "      <td>2008-09-28</td>\n",
       "      <td>62.59</td>\n",
       "      <td>12.49</td>\n",
       "      <td>479.33</td>\n",
       "      <td>0.9</td>\n",
       "      <td>13.15</td>\n",
       "      <td>7.75</td>\n",
       "      <td>255.00</td>\n",
       "      <td>W</td>\n",
       "    </tr>\n",
       "    <tr>\n",
       "      <th>2008-09-29</th>\n",
       "      <td>2008-09-29</td>\n",
       "      <td>61.62</td>\n",
       "      <td>12.47</td>\n",
       "      <td>493.00</td>\n",
       "      <td>5.7</td>\n",
       "      <td>10.96</td>\n",
       "      <td>6.13</td>\n",
       "      <td>240.00</td>\n",
       "      <td>SW</td>\n",
       "    </tr>\n",
       "    <tr>\n",
       "      <th>2008-09-30</th>\n",
       "      <td>2008-09-30</td>\n",
       "      <td>61.48</td>\n",
       "      <td>12.44</td>\n",
       "      <td>492.00</td>\n",
       "      <td>2.4</td>\n",
       "      <td>10.29</td>\n",
       "      <td>6.13</td>\n",
       "      <td>207.50</td>\n",
       "      <td>SW</td>\n",
       "    </tr>\n",
       "    <tr>\n",
       "      <th>2008-10-01</th>\n",
       "      <td>2008-10-01</td>\n",
       "      <td>61.23</td>\n",
       "      <td>12.42</td>\n",
       "      <td>493.50</td>\n",
       "      <td>9.6</td>\n",
       "      <td>11.06</td>\n",
       "      <td>9.25</td>\n",
       "      <td>213.75</td>\n",
       "      <td>SW</td>\n",
       "    </tr>\n",
       "    <tr>\n",
       "      <th>2008-10-02</th>\n",
       "      <td>2008-10-02</td>\n",
       "      <td>61.33</td>\n",
       "      <td>12.40</td>\n",
       "      <td>497.83</td>\n",
       "      <td>0.0</td>\n",
       "      <td>10.30</td>\n",
       "      <td>11.38</td>\n",
       "      <td>220.00</td>\n",
       "      <td>SW</td>\n",
       "    </tr>\n",
       "  </tbody>\n",
       "</table>\n",
       "</div>"
      ],
      "text/plain": [
       "                 date  waterlv  watertemp   sealv  precip   temp  vwind  \\\n",
       "date                                                                      \n",
       "2008-09-23 2008-09-23    67.21      12.57  493.50     0.0  12.13   3.88   \n",
       "2008-09-24 2008-09-24    66.29      12.56  490.67     0.0  10.86   4.50   \n",
       "2008-09-25 2008-09-25    65.21      12.54  486.67     0.0  10.05   2.63   \n",
       "2008-09-26 2008-09-26    64.33      12.53  481.00     0.0   9.54   1.88   \n",
       "2008-09-27 2008-09-27    63.40      12.51  480.67     0.0  13.00   6.63   \n",
       "2008-09-28 2008-09-28    62.59      12.49  479.33     0.9  13.15   7.75   \n",
       "2008-09-29 2008-09-29    61.62      12.47  493.00     5.7  10.96   6.13   \n",
       "2008-09-30 2008-09-30    61.48      12.44  492.00     2.4  10.29   6.13   \n",
       "2008-10-01 2008-10-01    61.23      12.42  493.50     9.6  11.06   9.25   \n",
       "2008-10-02 2008-10-02    61.33      12.40  497.83     0.0  10.30  11.38   \n",
       "\n",
       "             dwind wind  \n",
       "date                     \n",
       "2008-09-23   66.25   NE  \n",
       "2008-09-24   53.75   NE  \n",
       "2008-09-25   30.00   NE  \n",
       "2008-09-26  212.50   SW  \n",
       "2008-09-27  242.50   SW  \n",
       "2008-09-28  255.00    W  \n",
       "2008-09-29  240.00   SW  \n",
       "2008-09-30  207.50   SW  \n",
       "2008-10-01  213.75   SW  \n",
       "2008-10-02  220.00   SW  "
      ]
     },
     "execution_count": 9,
     "metadata": {},
     "output_type": "execute_result"
    }
   ],
   "source": [
    "frame[0:10]"
   ]
  },
  {
   "cell_type": "code",
   "execution_count": 10,
   "metadata": {},
   "outputs": [],
   "source": [
    "#tworzenie kolumn z wartosciami opadow od 1 do 5 dni wstecz\n",
    "def precip_before(date, days_count):\n",
    "    key = date - timedelta(days=days_count)\n",
    "    if key in frame.index:\n",
    "        return frame.loc[key]['precip']\n",
    "    else:\n",
    "        return None\n",
    "    \n",
    "for i in range(1,6):\n",
    "    frame['precip'+ str(i)] = frame['date'].apply(lambda x : precip_before(x, i))"
   ]
  },
  {
   "cell_type": "code",
   "execution_count": 11,
   "metadata": {},
   "outputs": [],
   "source": [
    "#tworzenie kolumny z suma opadow 5 dni wstecz\n",
    "try:\n",
    "    frame['precipsum']=frame.iloc[:,9:14].sum(axis=1)\n",
    "except:\n",
    "    None\n",
    "        "
   ]
  },
  {
   "cell_type": "code",
   "execution_count": 12,
   "metadata": {},
   "outputs": [
    {
     "data": {
      "text/html": [
       "<div>\n",
       "<style scoped>\n",
       "    .dataframe tbody tr th:only-of-type {\n",
       "        vertical-align: middle;\n",
       "    }\n",
       "\n",
       "    .dataframe tbody tr th {\n",
       "        vertical-align: top;\n",
       "    }\n",
       "\n",
       "    .dataframe thead th {\n",
       "        text-align: right;\n",
       "    }\n",
       "</style>\n",
       "<table border=\"1\" class=\"dataframe\">\n",
       "  <thead>\n",
       "    <tr style=\"text-align: right;\">\n",
       "      <th></th>\n",
       "      <th>date</th>\n",
       "      <th>waterlv</th>\n",
       "      <th>watertemp</th>\n",
       "      <th>sealv</th>\n",
       "      <th>precip</th>\n",
       "      <th>temp</th>\n",
       "      <th>vwind</th>\n",
       "      <th>dwind</th>\n",
       "      <th>wind</th>\n",
       "      <th>precip1</th>\n",
       "      <th>precip2</th>\n",
       "      <th>precip3</th>\n",
       "      <th>precip4</th>\n",
       "      <th>precip5</th>\n",
       "      <th>precipsum</th>\n",
       "    </tr>\n",
       "    <tr>\n",
       "      <th>date</th>\n",
       "      <th></th>\n",
       "      <th></th>\n",
       "      <th></th>\n",
       "      <th></th>\n",
       "      <th></th>\n",
       "      <th></th>\n",
       "      <th></th>\n",
       "      <th></th>\n",
       "      <th></th>\n",
       "      <th></th>\n",
       "      <th></th>\n",
       "      <th></th>\n",
       "      <th></th>\n",
       "      <th></th>\n",
       "      <th></th>\n",
       "    </tr>\n",
       "  </thead>\n",
       "  <tbody>\n",
       "    <tr>\n",
       "      <th>2008-09-23</th>\n",
       "      <td>2008-09-23</td>\n",
       "      <td>67.21</td>\n",
       "      <td>12.57</td>\n",
       "      <td>493.50</td>\n",
       "      <td>0.0</td>\n",
       "      <td>12.13</td>\n",
       "      <td>3.88</td>\n",
       "      <td>66.25</td>\n",
       "      <td>NE</td>\n",
       "      <td>NaN</td>\n",
       "      <td>NaN</td>\n",
       "      <td>NaN</td>\n",
       "      <td>NaN</td>\n",
       "      <td>NaN</td>\n",
       "      <td>0.0</td>\n",
       "    </tr>\n",
       "    <tr>\n",
       "      <th>2008-09-24</th>\n",
       "      <td>2008-09-24</td>\n",
       "      <td>66.29</td>\n",
       "      <td>12.56</td>\n",
       "      <td>490.67</td>\n",
       "      <td>0.0</td>\n",
       "      <td>10.86</td>\n",
       "      <td>4.50</td>\n",
       "      <td>53.75</td>\n",
       "      <td>NE</td>\n",
       "      <td>0.0</td>\n",
       "      <td>NaN</td>\n",
       "      <td>NaN</td>\n",
       "      <td>NaN</td>\n",
       "      <td>NaN</td>\n",
       "      <td>0.0</td>\n",
       "    </tr>\n",
       "    <tr>\n",
       "      <th>2008-09-25</th>\n",
       "      <td>2008-09-25</td>\n",
       "      <td>65.21</td>\n",
       "      <td>12.54</td>\n",
       "      <td>486.67</td>\n",
       "      <td>0.0</td>\n",
       "      <td>10.05</td>\n",
       "      <td>2.63</td>\n",
       "      <td>30.00</td>\n",
       "      <td>NE</td>\n",
       "      <td>0.0</td>\n",
       "      <td>0.0</td>\n",
       "      <td>NaN</td>\n",
       "      <td>NaN</td>\n",
       "      <td>NaN</td>\n",
       "      <td>0.0</td>\n",
       "    </tr>\n",
       "    <tr>\n",
       "      <th>2008-09-26</th>\n",
       "      <td>2008-09-26</td>\n",
       "      <td>64.33</td>\n",
       "      <td>12.53</td>\n",
       "      <td>481.00</td>\n",
       "      <td>0.0</td>\n",
       "      <td>9.54</td>\n",
       "      <td>1.88</td>\n",
       "      <td>212.50</td>\n",
       "      <td>SW</td>\n",
       "      <td>0.0</td>\n",
       "      <td>0.0</td>\n",
       "      <td>0.0</td>\n",
       "      <td>NaN</td>\n",
       "      <td>NaN</td>\n",
       "      <td>0.0</td>\n",
       "    </tr>\n",
       "    <tr>\n",
       "      <th>2008-09-27</th>\n",
       "      <td>2008-09-27</td>\n",
       "      <td>63.40</td>\n",
       "      <td>12.51</td>\n",
       "      <td>480.67</td>\n",
       "      <td>0.0</td>\n",
       "      <td>13.00</td>\n",
       "      <td>6.63</td>\n",
       "      <td>242.50</td>\n",
       "      <td>SW</td>\n",
       "      <td>0.0</td>\n",
       "      <td>0.0</td>\n",
       "      <td>0.0</td>\n",
       "      <td>0.0</td>\n",
       "      <td>NaN</td>\n",
       "      <td>0.0</td>\n",
       "    </tr>\n",
       "    <tr>\n",
       "      <th>2008-09-28</th>\n",
       "      <td>2008-09-28</td>\n",
       "      <td>62.59</td>\n",
       "      <td>12.49</td>\n",
       "      <td>479.33</td>\n",
       "      <td>0.9</td>\n",
       "      <td>13.15</td>\n",
       "      <td>7.75</td>\n",
       "      <td>255.00</td>\n",
       "      <td>W</td>\n",
       "      <td>0.0</td>\n",
       "      <td>0.0</td>\n",
       "      <td>0.0</td>\n",
       "      <td>0.0</td>\n",
       "      <td>0.0</td>\n",
       "      <td>0.0</td>\n",
       "    </tr>\n",
       "    <tr>\n",
       "      <th>2008-09-29</th>\n",
       "      <td>2008-09-29</td>\n",
       "      <td>61.62</td>\n",
       "      <td>12.47</td>\n",
       "      <td>493.00</td>\n",
       "      <td>5.7</td>\n",
       "      <td>10.96</td>\n",
       "      <td>6.13</td>\n",
       "      <td>240.00</td>\n",
       "      <td>SW</td>\n",
       "      <td>0.9</td>\n",
       "      <td>0.0</td>\n",
       "      <td>0.0</td>\n",
       "      <td>0.0</td>\n",
       "      <td>0.0</td>\n",
       "      <td>0.9</td>\n",
       "    </tr>\n",
       "    <tr>\n",
       "      <th>2008-09-30</th>\n",
       "      <td>2008-09-30</td>\n",
       "      <td>61.48</td>\n",
       "      <td>12.44</td>\n",
       "      <td>492.00</td>\n",
       "      <td>2.4</td>\n",
       "      <td>10.29</td>\n",
       "      <td>6.13</td>\n",
       "      <td>207.50</td>\n",
       "      <td>SW</td>\n",
       "      <td>5.7</td>\n",
       "      <td>0.9</td>\n",
       "      <td>0.0</td>\n",
       "      <td>0.0</td>\n",
       "      <td>0.0</td>\n",
       "      <td>6.6</td>\n",
       "    </tr>\n",
       "    <tr>\n",
       "      <th>2008-10-01</th>\n",
       "      <td>2008-10-01</td>\n",
       "      <td>61.23</td>\n",
       "      <td>12.42</td>\n",
       "      <td>493.50</td>\n",
       "      <td>9.6</td>\n",
       "      <td>11.06</td>\n",
       "      <td>9.25</td>\n",
       "      <td>213.75</td>\n",
       "      <td>SW</td>\n",
       "      <td>2.4</td>\n",
       "      <td>5.7</td>\n",
       "      <td>0.9</td>\n",
       "      <td>0.0</td>\n",
       "      <td>0.0</td>\n",
       "      <td>9.0</td>\n",
       "    </tr>\n",
       "    <tr>\n",
       "      <th>2008-10-02</th>\n",
       "      <td>2008-10-02</td>\n",
       "      <td>61.33</td>\n",
       "      <td>12.40</td>\n",
       "      <td>497.83</td>\n",
       "      <td>0.0</td>\n",
       "      <td>10.30</td>\n",
       "      <td>11.38</td>\n",
       "      <td>220.00</td>\n",
       "      <td>SW</td>\n",
       "      <td>9.6</td>\n",
       "      <td>2.4</td>\n",
       "      <td>5.7</td>\n",
       "      <td>0.9</td>\n",
       "      <td>0.0</td>\n",
       "      <td>18.6</td>\n",
       "    </tr>\n",
       "  </tbody>\n",
       "</table>\n",
       "</div>"
      ],
      "text/plain": [
       "                 date  waterlv  watertemp   sealv  precip   temp  vwind  \\\n",
       "date                                                                      \n",
       "2008-09-23 2008-09-23    67.21      12.57  493.50     0.0  12.13   3.88   \n",
       "2008-09-24 2008-09-24    66.29      12.56  490.67     0.0  10.86   4.50   \n",
       "2008-09-25 2008-09-25    65.21      12.54  486.67     0.0  10.05   2.63   \n",
       "2008-09-26 2008-09-26    64.33      12.53  481.00     0.0   9.54   1.88   \n",
       "2008-09-27 2008-09-27    63.40      12.51  480.67     0.0  13.00   6.63   \n",
       "2008-09-28 2008-09-28    62.59      12.49  479.33     0.9  13.15   7.75   \n",
       "2008-09-29 2008-09-29    61.62      12.47  493.00     5.7  10.96   6.13   \n",
       "2008-09-30 2008-09-30    61.48      12.44  492.00     2.4  10.29   6.13   \n",
       "2008-10-01 2008-10-01    61.23      12.42  493.50     9.6  11.06   9.25   \n",
       "2008-10-02 2008-10-02    61.33      12.40  497.83     0.0  10.30  11.38   \n",
       "\n",
       "             dwind wind  precip1  precip2  precip3  precip4  precip5  \\\n",
       "date                                                                   \n",
       "2008-09-23   66.25   NE      NaN      NaN      NaN      NaN      NaN   \n",
       "2008-09-24   53.75   NE      0.0      NaN      NaN      NaN      NaN   \n",
       "2008-09-25   30.00   NE      0.0      0.0      NaN      NaN      NaN   \n",
       "2008-09-26  212.50   SW      0.0      0.0      0.0      NaN      NaN   \n",
       "2008-09-27  242.50   SW      0.0      0.0      0.0      0.0      NaN   \n",
       "2008-09-28  255.00    W      0.0      0.0      0.0      0.0      0.0   \n",
       "2008-09-29  240.00   SW      0.9      0.0      0.0      0.0      0.0   \n",
       "2008-09-30  207.50   SW      5.7      0.9      0.0      0.0      0.0   \n",
       "2008-10-01  213.75   SW      2.4      5.7      0.9      0.0      0.0   \n",
       "2008-10-02  220.00   SW      9.6      2.4      5.7      0.9      0.0   \n",
       "\n",
       "            precipsum  \n",
       "date                   \n",
       "2008-09-23        0.0  \n",
       "2008-09-24        0.0  \n",
       "2008-09-25        0.0  \n",
       "2008-09-26        0.0  \n",
       "2008-09-27        0.0  \n",
       "2008-09-28        0.0  \n",
       "2008-09-29        0.9  \n",
       "2008-09-30        6.6  \n",
       "2008-10-01        9.0  \n",
       "2008-10-02       18.6  "
      ]
     },
     "execution_count": 12,
     "metadata": {},
     "output_type": "execute_result"
    }
   ],
   "source": [
    "frame[0:10]"
   ]
  },
  {
   "cell_type": "code",
   "execution_count": 13,
   "metadata": {},
   "outputs": [],
   "source": [
    "#tworzenie kolumny ze srednia temperatura dla 5 dni wstecz\n",
    "def mean_temp5(date):\n",
    "    tlist = []\n",
    "    for i in range(1,6):\n",
    "        key = date - timedelta(days=i)\n",
    "        if key in frame.index:\n",
    "            tlist.append(frame.loc[key]['temp'])\n",
    "        else:\n",
    "            return None\n",
    "    return np.mean(tlist)\n",
    "\n",
    "frame['meantemp'] = frame['date'].apply(mean_temp5)"
   ]
  },
  {
   "cell_type": "code",
   "execution_count": 14,
   "metadata": {},
   "outputs": [
    {
     "data": {
      "text/html": [
       "<div>\n",
       "<style scoped>\n",
       "    .dataframe tbody tr th:only-of-type {\n",
       "        vertical-align: middle;\n",
       "    }\n",
       "\n",
       "    .dataframe tbody tr th {\n",
       "        vertical-align: top;\n",
       "    }\n",
       "\n",
       "    .dataframe thead th {\n",
       "        text-align: right;\n",
       "    }\n",
       "</style>\n",
       "<table border=\"1\" class=\"dataframe\">\n",
       "  <thead>\n",
       "    <tr style=\"text-align: right;\">\n",
       "      <th></th>\n",
       "      <th>date</th>\n",
       "      <th>waterlv</th>\n",
       "      <th>watertemp</th>\n",
       "      <th>sealv</th>\n",
       "      <th>precip</th>\n",
       "      <th>temp</th>\n",
       "      <th>vwind</th>\n",
       "      <th>dwind</th>\n",
       "      <th>wind</th>\n",
       "      <th>precip1</th>\n",
       "      <th>precip2</th>\n",
       "      <th>precip3</th>\n",
       "      <th>precip4</th>\n",
       "      <th>precip5</th>\n",
       "      <th>precipsum</th>\n",
       "      <th>meantemp</th>\n",
       "    </tr>\n",
       "    <tr>\n",
       "      <th>date</th>\n",
       "      <th></th>\n",
       "      <th></th>\n",
       "      <th></th>\n",
       "      <th></th>\n",
       "      <th></th>\n",
       "      <th></th>\n",
       "      <th></th>\n",
       "      <th></th>\n",
       "      <th></th>\n",
       "      <th></th>\n",
       "      <th></th>\n",
       "      <th></th>\n",
       "      <th></th>\n",
       "      <th></th>\n",
       "      <th></th>\n",
       "      <th></th>\n",
       "    </tr>\n",
       "  </thead>\n",
       "  <tbody>\n",
       "    <tr>\n",
       "      <th>2008-09-23</th>\n",
       "      <td>2008-09-23</td>\n",
       "      <td>67.21</td>\n",
       "      <td>12.57</td>\n",
       "      <td>493.50</td>\n",
       "      <td>0.0</td>\n",
       "      <td>12.13</td>\n",
       "      <td>3.88</td>\n",
       "      <td>66.25</td>\n",
       "      <td>NE</td>\n",
       "      <td>NaN</td>\n",
       "      <td>NaN</td>\n",
       "      <td>NaN</td>\n",
       "      <td>NaN</td>\n",
       "      <td>NaN</td>\n",
       "      <td>0.0</td>\n",
       "      <td>NaN</td>\n",
       "    </tr>\n",
       "    <tr>\n",
       "      <th>2008-09-24</th>\n",
       "      <td>2008-09-24</td>\n",
       "      <td>66.29</td>\n",
       "      <td>12.56</td>\n",
       "      <td>490.67</td>\n",
       "      <td>0.0</td>\n",
       "      <td>10.86</td>\n",
       "      <td>4.50</td>\n",
       "      <td>53.75</td>\n",
       "      <td>NE</td>\n",
       "      <td>0.0</td>\n",
       "      <td>NaN</td>\n",
       "      <td>NaN</td>\n",
       "      <td>NaN</td>\n",
       "      <td>NaN</td>\n",
       "      <td>0.0</td>\n",
       "      <td>NaN</td>\n",
       "    </tr>\n",
       "    <tr>\n",
       "      <th>2008-09-25</th>\n",
       "      <td>2008-09-25</td>\n",
       "      <td>65.21</td>\n",
       "      <td>12.54</td>\n",
       "      <td>486.67</td>\n",
       "      <td>0.0</td>\n",
       "      <td>10.05</td>\n",
       "      <td>2.63</td>\n",
       "      <td>30.00</td>\n",
       "      <td>NE</td>\n",
       "      <td>0.0</td>\n",
       "      <td>0.0</td>\n",
       "      <td>NaN</td>\n",
       "      <td>NaN</td>\n",
       "      <td>NaN</td>\n",
       "      <td>0.0</td>\n",
       "      <td>NaN</td>\n",
       "    </tr>\n",
       "    <tr>\n",
       "      <th>2008-09-26</th>\n",
       "      <td>2008-09-26</td>\n",
       "      <td>64.33</td>\n",
       "      <td>12.53</td>\n",
       "      <td>481.00</td>\n",
       "      <td>0.0</td>\n",
       "      <td>9.54</td>\n",
       "      <td>1.88</td>\n",
       "      <td>212.50</td>\n",
       "      <td>SW</td>\n",
       "      <td>0.0</td>\n",
       "      <td>0.0</td>\n",
       "      <td>0.0</td>\n",
       "      <td>NaN</td>\n",
       "      <td>NaN</td>\n",
       "      <td>0.0</td>\n",
       "      <td>NaN</td>\n",
       "    </tr>\n",
       "    <tr>\n",
       "      <th>2008-09-27</th>\n",
       "      <td>2008-09-27</td>\n",
       "      <td>63.40</td>\n",
       "      <td>12.51</td>\n",
       "      <td>480.67</td>\n",
       "      <td>0.0</td>\n",
       "      <td>13.00</td>\n",
       "      <td>6.63</td>\n",
       "      <td>242.50</td>\n",
       "      <td>SW</td>\n",
       "      <td>0.0</td>\n",
       "      <td>0.0</td>\n",
       "      <td>0.0</td>\n",
       "      <td>0.0</td>\n",
       "      <td>NaN</td>\n",
       "      <td>0.0</td>\n",
       "      <td>NaN</td>\n",
       "    </tr>\n",
       "    <tr>\n",
       "      <th>2008-09-28</th>\n",
       "      <td>2008-09-28</td>\n",
       "      <td>62.59</td>\n",
       "      <td>12.49</td>\n",
       "      <td>479.33</td>\n",
       "      <td>0.9</td>\n",
       "      <td>13.15</td>\n",
       "      <td>7.75</td>\n",
       "      <td>255.00</td>\n",
       "      <td>W</td>\n",
       "      <td>0.0</td>\n",
       "      <td>0.0</td>\n",
       "      <td>0.0</td>\n",
       "      <td>0.0</td>\n",
       "      <td>0.0</td>\n",
       "      <td>0.0</td>\n",
       "      <td>11.116</td>\n",
       "    </tr>\n",
       "    <tr>\n",
       "      <th>2008-09-29</th>\n",
       "      <td>2008-09-29</td>\n",
       "      <td>61.62</td>\n",
       "      <td>12.47</td>\n",
       "      <td>493.00</td>\n",
       "      <td>5.7</td>\n",
       "      <td>10.96</td>\n",
       "      <td>6.13</td>\n",
       "      <td>240.00</td>\n",
       "      <td>SW</td>\n",
       "      <td>0.9</td>\n",
       "      <td>0.0</td>\n",
       "      <td>0.0</td>\n",
       "      <td>0.0</td>\n",
       "      <td>0.0</td>\n",
       "      <td>0.9</td>\n",
       "      <td>11.320</td>\n",
       "    </tr>\n",
       "    <tr>\n",
       "      <th>2008-09-30</th>\n",
       "      <td>2008-09-30</td>\n",
       "      <td>61.48</td>\n",
       "      <td>12.44</td>\n",
       "      <td>492.00</td>\n",
       "      <td>2.4</td>\n",
       "      <td>10.29</td>\n",
       "      <td>6.13</td>\n",
       "      <td>207.50</td>\n",
       "      <td>SW</td>\n",
       "      <td>5.7</td>\n",
       "      <td>0.9</td>\n",
       "      <td>0.0</td>\n",
       "      <td>0.0</td>\n",
       "      <td>0.0</td>\n",
       "      <td>6.6</td>\n",
       "      <td>11.340</td>\n",
       "    </tr>\n",
       "    <tr>\n",
       "      <th>2008-10-01</th>\n",
       "      <td>2008-10-01</td>\n",
       "      <td>61.23</td>\n",
       "      <td>12.42</td>\n",
       "      <td>493.50</td>\n",
       "      <td>9.6</td>\n",
       "      <td>11.06</td>\n",
       "      <td>9.25</td>\n",
       "      <td>213.75</td>\n",
       "      <td>SW</td>\n",
       "      <td>2.4</td>\n",
       "      <td>5.7</td>\n",
       "      <td>0.9</td>\n",
       "      <td>0.0</td>\n",
       "      <td>0.0</td>\n",
       "      <td>9.0</td>\n",
       "      <td>11.388</td>\n",
       "    </tr>\n",
       "    <tr>\n",
       "      <th>2008-10-02</th>\n",
       "      <td>2008-10-02</td>\n",
       "      <td>61.33</td>\n",
       "      <td>12.40</td>\n",
       "      <td>497.83</td>\n",
       "      <td>0.0</td>\n",
       "      <td>10.30</td>\n",
       "      <td>11.38</td>\n",
       "      <td>220.00</td>\n",
       "      <td>SW</td>\n",
       "      <td>9.6</td>\n",
       "      <td>2.4</td>\n",
       "      <td>5.7</td>\n",
       "      <td>0.9</td>\n",
       "      <td>0.0</td>\n",
       "      <td>18.6</td>\n",
       "      <td>11.692</td>\n",
       "    </tr>\n",
       "  </tbody>\n",
       "</table>\n",
       "</div>"
      ],
      "text/plain": [
       "                 date  waterlv  watertemp   sealv  precip   temp  vwind  \\\n",
       "date                                                                      \n",
       "2008-09-23 2008-09-23    67.21      12.57  493.50     0.0  12.13   3.88   \n",
       "2008-09-24 2008-09-24    66.29      12.56  490.67     0.0  10.86   4.50   \n",
       "2008-09-25 2008-09-25    65.21      12.54  486.67     0.0  10.05   2.63   \n",
       "2008-09-26 2008-09-26    64.33      12.53  481.00     0.0   9.54   1.88   \n",
       "2008-09-27 2008-09-27    63.40      12.51  480.67     0.0  13.00   6.63   \n",
       "2008-09-28 2008-09-28    62.59      12.49  479.33     0.9  13.15   7.75   \n",
       "2008-09-29 2008-09-29    61.62      12.47  493.00     5.7  10.96   6.13   \n",
       "2008-09-30 2008-09-30    61.48      12.44  492.00     2.4  10.29   6.13   \n",
       "2008-10-01 2008-10-01    61.23      12.42  493.50     9.6  11.06   9.25   \n",
       "2008-10-02 2008-10-02    61.33      12.40  497.83     0.0  10.30  11.38   \n",
       "\n",
       "             dwind wind  precip1  precip2  precip3  precip4  precip5  \\\n",
       "date                                                                   \n",
       "2008-09-23   66.25   NE      NaN      NaN      NaN      NaN      NaN   \n",
       "2008-09-24   53.75   NE      0.0      NaN      NaN      NaN      NaN   \n",
       "2008-09-25   30.00   NE      0.0      0.0      NaN      NaN      NaN   \n",
       "2008-09-26  212.50   SW      0.0      0.0      0.0      NaN      NaN   \n",
       "2008-09-27  242.50   SW      0.0      0.0      0.0      0.0      NaN   \n",
       "2008-09-28  255.00    W      0.0      0.0      0.0      0.0      0.0   \n",
       "2008-09-29  240.00   SW      0.9      0.0      0.0      0.0      0.0   \n",
       "2008-09-30  207.50   SW      5.7      0.9      0.0      0.0      0.0   \n",
       "2008-10-01  213.75   SW      2.4      5.7      0.9      0.0      0.0   \n",
       "2008-10-02  220.00   SW      9.6      2.4      5.7      0.9      0.0   \n",
       "\n",
       "            precipsum  meantemp  \n",
       "date                             \n",
       "2008-09-23        0.0       NaN  \n",
       "2008-09-24        0.0       NaN  \n",
       "2008-09-25        0.0       NaN  \n",
       "2008-09-26        0.0       NaN  \n",
       "2008-09-27        0.0       NaN  \n",
       "2008-09-28        0.0    11.116  \n",
       "2008-09-29        0.9    11.320  \n",
       "2008-09-30        6.6    11.340  \n",
       "2008-10-01        9.0    11.388  \n",
       "2008-10-02       18.6    11.692  "
      ]
     },
     "execution_count": 14,
     "metadata": {},
     "output_type": "execute_result"
    }
   ],
   "source": [
    "frame[0:10]"
   ]
  },
  {
   "cell_type": "code",
   "execution_count": 15,
   "metadata": {},
   "outputs": [
    {
     "data": {
      "text/html": [
       "<div>\n",
       "<style scoped>\n",
       "    .dataframe tbody tr th:only-of-type {\n",
       "        vertical-align: middle;\n",
       "    }\n",
       "\n",
       "    .dataframe tbody tr th {\n",
       "        vertical-align: top;\n",
       "    }\n",
       "\n",
       "    .dataframe thead th {\n",
       "        text-align: right;\n",
       "    }\n",
       "</style>\n",
       "<table border=\"1\" class=\"dataframe\">\n",
       "  <thead>\n",
       "    <tr style=\"text-align: right;\">\n",
       "      <th></th>\n",
       "      <th>date</th>\n",
       "      <th>waterlv</th>\n",
       "      <th>watertemp</th>\n",
       "      <th>sealv</th>\n",
       "      <th>precip</th>\n",
       "      <th>temp</th>\n",
       "      <th>vwind</th>\n",
       "      <th>dwind</th>\n",
       "      <th>wind</th>\n",
       "      <th>precip1</th>\n",
       "      <th>precip2</th>\n",
       "      <th>precip3</th>\n",
       "      <th>precip4</th>\n",
       "      <th>precip5</th>\n",
       "      <th>precipsum</th>\n",
       "      <th>meantemp</th>\n",
       "    </tr>\n",
       "    <tr>\n",
       "      <th>date</th>\n",
       "      <th></th>\n",
       "      <th></th>\n",
       "      <th></th>\n",
       "      <th></th>\n",
       "      <th></th>\n",
       "      <th></th>\n",
       "      <th></th>\n",
       "      <th></th>\n",
       "      <th></th>\n",
       "      <th></th>\n",
       "      <th></th>\n",
       "      <th></th>\n",
       "      <th></th>\n",
       "      <th></th>\n",
       "      <th></th>\n",
       "      <th></th>\n",
       "    </tr>\n",
       "  </thead>\n",
       "  <tbody>\n",
       "    <tr>\n",
       "      <th>2008-09-28</th>\n",
       "      <td>2008-09-28</td>\n",
       "      <td>62.59</td>\n",
       "      <td>12.49</td>\n",
       "      <td>479.33</td>\n",
       "      <td>0.9</td>\n",
       "      <td>13.15</td>\n",
       "      <td>7.75</td>\n",
       "      <td>255.00</td>\n",
       "      <td>W</td>\n",
       "      <td>0.0</td>\n",
       "      <td>0.0</td>\n",
       "      <td>0.0</td>\n",
       "      <td>0.0</td>\n",
       "      <td>0.0</td>\n",
       "      <td>0.0</td>\n",
       "      <td>11.116</td>\n",
       "    </tr>\n",
       "    <tr>\n",
       "      <th>2008-09-29</th>\n",
       "      <td>2008-09-29</td>\n",
       "      <td>61.62</td>\n",
       "      <td>12.47</td>\n",
       "      <td>493.00</td>\n",
       "      <td>5.7</td>\n",
       "      <td>10.96</td>\n",
       "      <td>6.13</td>\n",
       "      <td>240.00</td>\n",
       "      <td>SW</td>\n",
       "      <td>0.9</td>\n",
       "      <td>0.0</td>\n",
       "      <td>0.0</td>\n",
       "      <td>0.0</td>\n",
       "      <td>0.0</td>\n",
       "      <td>0.9</td>\n",
       "      <td>11.320</td>\n",
       "    </tr>\n",
       "    <tr>\n",
       "      <th>2008-09-30</th>\n",
       "      <td>2008-09-30</td>\n",
       "      <td>61.48</td>\n",
       "      <td>12.44</td>\n",
       "      <td>492.00</td>\n",
       "      <td>2.4</td>\n",
       "      <td>10.29</td>\n",
       "      <td>6.13</td>\n",
       "      <td>207.50</td>\n",
       "      <td>SW</td>\n",
       "      <td>5.7</td>\n",
       "      <td>0.9</td>\n",
       "      <td>0.0</td>\n",
       "      <td>0.0</td>\n",
       "      <td>0.0</td>\n",
       "      <td>6.6</td>\n",
       "      <td>11.340</td>\n",
       "    </tr>\n",
       "    <tr>\n",
       "      <th>2008-10-01</th>\n",
       "      <td>2008-10-01</td>\n",
       "      <td>61.23</td>\n",
       "      <td>12.42</td>\n",
       "      <td>493.50</td>\n",
       "      <td>9.6</td>\n",
       "      <td>11.06</td>\n",
       "      <td>9.25</td>\n",
       "      <td>213.75</td>\n",
       "      <td>SW</td>\n",
       "      <td>2.4</td>\n",
       "      <td>5.7</td>\n",
       "      <td>0.9</td>\n",
       "      <td>0.0</td>\n",
       "      <td>0.0</td>\n",
       "      <td>9.0</td>\n",
       "      <td>11.388</td>\n",
       "    </tr>\n",
       "    <tr>\n",
       "      <th>2008-10-02</th>\n",
       "      <td>2008-10-02</td>\n",
       "      <td>61.33</td>\n",
       "      <td>12.40</td>\n",
       "      <td>497.83</td>\n",
       "      <td>0.0</td>\n",
       "      <td>10.30</td>\n",
       "      <td>11.38</td>\n",
       "      <td>220.00</td>\n",
       "      <td>SW</td>\n",
       "      <td>9.6</td>\n",
       "      <td>2.4</td>\n",
       "      <td>5.7</td>\n",
       "      <td>0.9</td>\n",
       "      <td>0.0</td>\n",
       "      <td>18.6</td>\n",
       "      <td>11.692</td>\n",
       "    </tr>\n",
       "    <tr>\n",
       "      <th>2008-10-03</th>\n",
       "      <td>2008-10-03</td>\n",
       "      <td>63.72</td>\n",
       "      <td>12.39</td>\n",
       "      <td>506.17</td>\n",
       "      <td>0.2</td>\n",
       "      <td>9.19</td>\n",
       "      <td>7.00</td>\n",
       "      <td>211.25</td>\n",
       "      <td>SW</td>\n",
       "      <td>0.0</td>\n",
       "      <td>9.6</td>\n",
       "      <td>2.4</td>\n",
       "      <td>5.7</td>\n",
       "      <td>0.9</td>\n",
       "      <td>18.6</td>\n",
       "      <td>11.152</td>\n",
       "    </tr>\n",
       "    <tr>\n",
       "      <th>2008-10-04</th>\n",
       "      <td>2008-10-04</td>\n",
       "      <td>65.63</td>\n",
       "      <td>12.37</td>\n",
       "      <td>506.50</td>\n",
       "      <td>0.0</td>\n",
       "      <td>8.95</td>\n",
       "      <td>6.38</td>\n",
       "      <td>225.00</td>\n",
       "      <td>SW</td>\n",
       "      <td>0.2</td>\n",
       "      <td>0.0</td>\n",
       "      <td>9.6</td>\n",
       "      <td>2.4</td>\n",
       "      <td>5.7</td>\n",
       "      <td>17.9</td>\n",
       "      <td>10.360</td>\n",
       "    </tr>\n",
       "    <tr>\n",
       "      <th>2008-10-05</th>\n",
       "      <td>2008-10-05</td>\n",
       "      <td>66.91</td>\n",
       "      <td>12.35</td>\n",
       "      <td>483.67</td>\n",
       "      <td>0.5</td>\n",
       "      <td>8.83</td>\n",
       "      <td>7.88</td>\n",
       "      <td>198.75</td>\n",
       "      <td>S</td>\n",
       "      <td>0.0</td>\n",
       "      <td>0.2</td>\n",
       "      <td>0.0</td>\n",
       "      <td>9.6</td>\n",
       "      <td>2.4</td>\n",
       "      <td>12.2</td>\n",
       "      <td>9.958</td>\n",
       "    </tr>\n",
       "    <tr>\n",
       "      <th>2008-10-06</th>\n",
       "      <td>2008-10-06</td>\n",
       "      <td>67.23</td>\n",
       "      <td>12.33</td>\n",
       "      <td>504.67</td>\n",
       "      <td>0.0</td>\n",
       "      <td>9.70</td>\n",
       "      <td>3.13</td>\n",
       "      <td>237.50</td>\n",
       "      <td>SW</td>\n",
       "      <td>0.5</td>\n",
       "      <td>0.0</td>\n",
       "      <td>0.2</td>\n",
       "      <td>0.0</td>\n",
       "      <td>9.6</td>\n",
       "      <td>10.3</td>\n",
       "      <td>9.666</td>\n",
       "    </tr>\n",
       "    <tr>\n",
       "      <th>2008-10-07</th>\n",
       "      <td>2008-10-07</td>\n",
       "      <td>67.23</td>\n",
       "      <td>12.30</td>\n",
       "      <td>513.67</td>\n",
       "      <td>0.0</td>\n",
       "      <td>6.55</td>\n",
       "      <td>1.88</td>\n",
       "      <td>162.50</td>\n",
       "      <td>S</td>\n",
       "      <td>0.0</td>\n",
       "      <td>0.5</td>\n",
       "      <td>0.0</td>\n",
       "      <td>0.2</td>\n",
       "      <td>0.0</td>\n",
       "      <td>0.7</td>\n",
       "      <td>9.394</td>\n",
       "    </tr>\n",
       "  </tbody>\n",
       "</table>\n",
       "</div>"
      ],
      "text/plain": [
       "                 date  waterlv  watertemp   sealv  precip   temp  vwind  \\\n",
       "date                                                                      \n",
       "2008-09-28 2008-09-28    62.59      12.49  479.33     0.9  13.15   7.75   \n",
       "2008-09-29 2008-09-29    61.62      12.47  493.00     5.7  10.96   6.13   \n",
       "2008-09-30 2008-09-30    61.48      12.44  492.00     2.4  10.29   6.13   \n",
       "2008-10-01 2008-10-01    61.23      12.42  493.50     9.6  11.06   9.25   \n",
       "2008-10-02 2008-10-02    61.33      12.40  497.83     0.0  10.30  11.38   \n",
       "2008-10-03 2008-10-03    63.72      12.39  506.17     0.2   9.19   7.00   \n",
       "2008-10-04 2008-10-04    65.63      12.37  506.50     0.0   8.95   6.38   \n",
       "2008-10-05 2008-10-05    66.91      12.35  483.67     0.5   8.83   7.88   \n",
       "2008-10-06 2008-10-06    67.23      12.33  504.67     0.0   9.70   3.13   \n",
       "2008-10-07 2008-10-07    67.23      12.30  513.67     0.0   6.55   1.88   \n",
       "\n",
       "             dwind wind  precip1  precip2  precip3  precip4  precip5  \\\n",
       "date                                                                   \n",
       "2008-09-28  255.00    W      0.0      0.0      0.0      0.0      0.0   \n",
       "2008-09-29  240.00   SW      0.9      0.0      0.0      0.0      0.0   \n",
       "2008-09-30  207.50   SW      5.7      0.9      0.0      0.0      0.0   \n",
       "2008-10-01  213.75   SW      2.4      5.7      0.9      0.0      0.0   \n",
       "2008-10-02  220.00   SW      9.6      2.4      5.7      0.9      0.0   \n",
       "2008-10-03  211.25   SW      0.0      9.6      2.4      5.7      0.9   \n",
       "2008-10-04  225.00   SW      0.2      0.0      9.6      2.4      5.7   \n",
       "2008-10-05  198.75    S      0.0      0.2      0.0      9.6      2.4   \n",
       "2008-10-06  237.50   SW      0.5      0.0      0.2      0.0      9.6   \n",
       "2008-10-07  162.50    S      0.0      0.5      0.0      0.2      0.0   \n",
       "\n",
       "            precipsum  meantemp  \n",
       "date                             \n",
       "2008-09-28        0.0    11.116  \n",
       "2008-09-29        0.9    11.320  \n",
       "2008-09-30        6.6    11.340  \n",
       "2008-10-01        9.0    11.388  \n",
       "2008-10-02       18.6    11.692  \n",
       "2008-10-03       18.6    11.152  \n",
       "2008-10-04       17.9    10.360  \n",
       "2008-10-05       12.2     9.958  \n",
       "2008-10-06       10.3     9.666  \n",
       "2008-10-07        0.7     9.394  "
      ]
     },
     "execution_count": 15,
     "metadata": {},
     "output_type": "execute_result"
    }
   ],
   "source": [
    "# usuniecie wierszy z NaN\n",
    "frame = frame.dropna()\n",
    "frame[0:10]"
   ]
  },
  {
   "cell_type": "code",
   "execution_count": 16,
   "metadata": {},
   "outputs": [],
   "source": [
    "# zapis do pliku csv\n",
    "frame.to_csv('result.csv')"
   ]
  },
  {
   "cell_type": "markdown",
   "metadata": {},
   "source": [
    "Eksploracja"
   ]
  },
  {
   "cell_type": "code",
   "execution_count": 17,
   "metadata": {},
   "outputs": [
    {
     "data": {
      "text/plain": [
       "(2129, 16)"
      ]
     },
     "execution_count": 17,
     "metadata": {},
     "output_type": "execute_result"
    }
   ],
   "source": [
    "#shape\n",
    "frame.shape"
   ]
  },
  {
   "cell_type": "code",
   "execution_count": 18,
   "metadata": {},
   "outputs": [
    {
     "name": "stdout",
     "output_type": "stream",
     "text": [
      "date         datetime64[ns]\n",
      "waterlv             float64\n",
      "watertemp           float64\n",
      "sealv               float64\n",
      "precip              float64\n",
      "temp                float64\n",
      "vwind               float64\n",
      "dwind               float64\n",
      "wind                 object\n",
      "precip1             float64\n",
      "precip2             float64\n",
      "precip3             float64\n",
      "precip4             float64\n",
      "precip5             float64\n",
      "precipsum           float64\n",
      "meantemp            float64\n",
      "dtype: object\n"
     ]
    }
   ],
   "source": [
    "#data types\n",
    "print(frame.dtypes)"
   ]
  },
  {
   "cell_type": "code",
   "execution_count": 19,
   "metadata": {},
   "outputs": [
    {
     "data": {
      "text/html": [
       "<div>\n",
       "<style scoped>\n",
       "    .dataframe tbody tr th:only-of-type {\n",
       "        vertical-align: middle;\n",
       "    }\n",
       "\n",
       "    .dataframe tbody tr th {\n",
       "        vertical-align: top;\n",
       "    }\n",
       "\n",
       "    .dataframe thead th {\n",
       "        text-align: right;\n",
       "    }\n",
       "</style>\n",
       "<table border=\"1\" class=\"dataframe\">\n",
       "  <thead>\n",
       "    <tr style=\"text-align: right;\">\n",
       "      <th></th>\n",
       "      <th>date</th>\n",
       "      <th>waterlv</th>\n",
       "      <th>watertemp</th>\n",
       "      <th>sealv</th>\n",
       "      <th>precip</th>\n",
       "      <th>temp</th>\n",
       "      <th>vwind</th>\n",
       "      <th>dwind</th>\n",
       "      <th>wind</th>\n",
       "      <th>precip1</th>\n",
       "      <th>precip2</th>\n",
       "      <th>precip3</th>\n",
       "      <th>precip4</th>\n",
       "      <th>precip5</th>\n",
       "      <th>precipsum</th>\n",
       "      <th>meantemp</th>\n",
       "    </tr>\n",
       "    <tr>\n",
       "      <th>date</th>\n",
       "      <th></th>\n",
       "      <th></th>\n",
       "      <th></th>\n",
       "      <th></th>\n",
       "      <th></th>\n",
       "      <th></th>\n",
       "      <th></th>\n",
       "      <th></th>\n",
       "      <th></th>\n",
       "      <th></th>\n",
       "      <th></th>\n",
       "      <th></th>\n",
       "      <th></th>\n",
       "      <th></th>\n",
       "      <th></th>\n",
       "      <th></th>\n",
       "    </tr>\n",
       "  </thead>\n",
       "  <tbody>\n",
       "    <tr>\n",
       "      <th>2008-09-28</th>\n",
       "      <td>2008-09-28</td>\n",
       "      <td>62.59</td>\n",
       "      <td>12.49</td>\n",
       "      <td>479.33</td>\n",
       "      <td>0.9</td>\n",
       "      <td>13.15</td>\n",
       "      <td>7.75</td>\n",
       "      <td>255.00</td>\n",
       "      <td>W</td>\n",
       "      <td>0.0</td>\n",
       "      <td>0.0</td>\n",
       "      <td>0.0</td>\n",
       "      <td>0.0</td>\n",
       "      <td>0.0</td>\n",
       "      <td>0.0</td>\n",
       "      <td>11.116</td>\n",
       "    </tr>\n",
       "    <tr>\n",
       "      <th>2008-09-29</th>\n",
       "      <td>2008-09-29</td>\n",
       "      <td>61.62</td>\n",
       "      <td>12.47</td>\n",
       "      <td>493.00</td>\n",
       "      <td>5.7</td>\n",
       "      <td>10.96</td>\n",
       "      <td>6.13</td>\n",
       "      <td>240.00</td>\n",
       "      <td>SW</td>\n",
       "      <td>0.9</td>\n",
       "      <td>0.0</td>\n",
       "      <td>0.0</td>\n",
       "      <td>0.0</td>\n",
       "      <td>0.0</td>\n",
       "      <td>0.9</td>\n",
       "      <td>11.320</td>\n",
       "    </tr>\n",
       "    <tr>\n",
       "      <th>2008-09-30</th>\n",
       "      <td>2008-09-30</td>\n",
       "      <td>61.48</td>\n",
       "      <td>12.44</td>\n",
       "      <td>492.00</td>\n",
       "      <td>2.4</td>\n",
       "      <td>10.29</td>\n",
       "      <td>6.13</td>\n",
       "      <td>207.50</td>\n",
       "      <td>SW</td>\n",
       "      <td>5.7</td>\n",
       "      <td>0.9</td>\n",
       "      <td>0.0</td>\n",
       "      <td>0.0</td>\n",
       "      <td>0.0</td>\n",
       "      <td>6.6</td>\n",
       "      <td>11.340</td>\n",
       "    </tr>\n",
       "    <tr>\n",
       "      <th>2008-10-01</th>\n",
       "      <td>2008-10-01</td>\n",
       "      <td>61.23</td>\n",
       "      <td>12.42</td>\n",
       "      <td>493.50</td>\n",
       "      <td>9.6</td>\n",
       "      <td>11.06</td>\n",
       "      <td>9.25</td>\n",
       "      <td>213.75</td>\n",
       "      <td>SW</td>\n",
       "      <td>2.4</td>\n",
       "      <td>5.7</td>\n",
       "      <td>0.9</td>\n",
       "      <td>0.0</td>\n",
       "      <td>0.0</td>\n",
       "      <td>9.0</td>\n",
       "      <td>11.388</td>\n",
       "    </tr>\n",
       "    <tr>\n",
       "      <th>2008-10-02</th>\n",
       "      <td>2008-10-02</td>\n",
       "      <td>61.33</td>\n",
       "      <td>12.40</td>\n",
       "      <td>497.83</td>\n",
       "      <td>0.0</td>\n",
       "      <td>10.30</td>\n",
       "      <td>11.38</td>\n",
       "      <td>220.00</td>\n",
       "      <td>SW</td>\n",
       "      <td>9.6</td>\n",
       "      <td>2.4</td>\n",
       "      <td>5.7</td>\n",
       "      <td>0.9</td>\n",
       "      <td>0.0</td>\n",
       "      <td>18.6</td>\n",
       "      <td>11.692</td>\n",
       "    </tr>\n",
       "    <tr>\n",
       "      <th>2008-10-03</th>\n",
       "      <td>2008-10-03</td>\n",
       "      <td>63.72</td>\n",
       "      <td>12.39</td>\n",
       "      <td>506.17</td>\n",
       "      <td>0.2</td>\n",
       "      <td>9.19</td>\n",
       "      <td>7.00</td>\n",
       "      <td>211.25</td>\n",
       "      <td>SW</td>\n",
       "      <td>0.0</td>\n",
       "      <td>9.6</td>\n",
       "      <td>2.4</td>\n",
       "      <td>5.7</td>\n",
       "      <td>0.9</td>\n",
       "      <td>18.6</td>\n",
       "      <td>11.152</td>\n",
       "    </tr>\n",
       "    <tr>\n",
       "      <th>2008-10-04</th>\n",
       "      <td>2008-10-04</td>\n",
       "      <td>65.63</td>\n",
       "      <td>12.37</td>\n",
       "      <td>506.50</td>\n",
       "      <td>0.0</td>\n",
       "      <td>8.95</td>\n",
       "      <td>6.38</td>\n",
       "      <td>225.00</td>\n",
       "      <td>SW</td>\n",
       "      <td>0.2</td>\n",
       "      <td>0.0</td>\n",
       "      <td>9.6</td>\n",
       "      <td>2.4</td>\n",
       "      <td>5.7</td>\n",
       "      <td>17.9</td>\n",
       "      <td>10.360</td>\n",
       "    </tr>\n",
       "    <tr>\n",
       "      <th>2008-10-05</th>\n",
       "      <td>2008-10-05</td>\n",
       "      <td>66.91</td>\n",
       "      <td>12.35</td>\n",
       "      <td>483.67</td>\n",
       "      <td>0.5</td>\n",
       "      <td>8.83</td>\n",
       "      <td>7.88</td>\n",
       "      <td>198.75</td>\n",
       "      <td>S</td>\n",
       "      <td>0.0</td>\n",
       "      <td>0.2</td>\n",
       "      <td>0.0</td>\n",
       "      <td>9.6</td>\n",
       "      <td>2.4</td>\n",
       "      <td>12.2</td>\n",
       "      <td>9.958</td>\n",
       "    </tr>\n",
       "    <tr>\n",
       "      <th>2008-10-06</th>\n",
       "      <td>2008-10-06</td>\n",
       "      <td>67.23</td>\n",
       "      <td>12.33</td>\n",
       "      <td>504.67</td>\n",
       "      <td>0.0</td>\n",
       "      <td>9.70</td>\n",
       "      <td>3.13</td>\n",
       "      <td>237.50</td>\n",
       "      <td>SW</td>\n",
       "      <td>0.5</td>\n",
       "      <td>0.0</td>\n",
       "      <td>0.2</td>\n",
       "      <td>0.0</td>\n",
       "      <td>9.6</td>\n",
       "      <td>10.3</td>\n",
       "      <td>9.666</td>\n",
       "    </tr>\n",
       "    <tr>\n",
       "      <th>2008-10-07</th>\n",
       "      <td>2008-10-07</td>\n",
       "      <td>67.23</td>\n",
       "      <td>12.30</td>\n",
       "      <td>513.67</td>\n",
       "      <td>0.0</td>\n",
       "      <td>6.55</td>\n",
       "      <td>1.88</td>\n",
       "      <td>162.50</td>\n",
       "      <td>S</td>\n",
       "      <td>0.0</td>\n",
       "      <td>0.5</td>\n",
       "      <td>0.0</td>\n",
       "      <td>0.2</td>\n",
       "      <td>0.0</td>\n",
       "      <td>0.7</td>\n",
       "      <td>9.394</td>\n",
       "    </tr>\n",
       "    <tr>\n",
       "      <th>2008-10-08</th>\n",
       "      <td>2008-10-08</td>\n",
       "      <td>67.47</td>\n",
       "      <td>12.27</td>\n",
       "      <td>511.83</td>\n",
       "      <td>0.0</td>\n",
       "      <td>7.81</td>\n",
       "      <td>1.50</td>\n",
       "      <td>128.75</td>\n",
       "      <td>SE</td>\n",
       "      <td>0.0</td>\n",
       "      <td>0.0</td>\n",
       "      <td>0.5</td>\n",
       "      <td>0.0</td>\n",
       "      <td>0.2</td>\n",
       "      <td>0.7</td>\n",
       "      <td>8.644</td>\n",
       "    </tr>\n",
       "    <tr>\n",
       "      <th>2008-10-09</th>\n",
       "      <td>2008-10-09</td>\n",
       "      <td>66.82</td>\n",
       "      <td>12.25</td>\n",
       "      <td>508.67</td>\n",
       "      <td>0.4</td>\n",
       "      <td>9.65</td>\n",
       "      <td>3.38</td>\n",
       "      <td>200.00</td>\n",
       "      <td>S</td>\n",
       "      <td>0.0</td>\n",
       "      <td>0.0</td>\n",
       "      <td>0.0</td>\n",
       "      <td>0.5</td>\n",
       "      <td>0.0</td>\n",
       "      <td>0.5</td>\n",
       "      <td>8.368</td>\n",
       "    </tr>\n",
       "    <tr>\n",
       "      <th>2008-10-10</th>\n",
       "      <td>2008-10-10</td>\n",
       "      <td>66.12</td>\n",
       "      <td>12.22</td>\n",
       "      <td>510.00</td>\n",
       "      <td>0.0</td>\n",
       "      <td>11.63</td>\n",
       "      <td>5.38</td>\n",
       "      <td>243.75</td>\n",
       "      <td>SW</td>\n",
       "      <td>0.4</td>\n",
       "      <td>0.0</td>\n",
       "      <td>0.0</td>\n",
       "      <td>0.0</td>\n",
       "      <td>0.5</td>\n",
       "      <td>0.9</td>\n",
       "      <td>8.508</td>\n",
       "    </tr>\n",
       "    <tr>\n",
       "      <th>2008-10-11</th>\n",
       "      <td>2008-10-11</td>\n",
       "      <td>66.33</td>\n",
       "      <td>12.19</td>\n",
       "      <td>497.50</td>\n",
       "      <td>0.0</td>\n",
       "      <td>13.06</td>\n",
       "      <td>6.25</td>\n",
       "      <td>230.00</td>\n",
       "      <td>SW</td>\n",
       "      <td>0.0</td>\n",
       "      <td>0.4</td>\n",
       "      <td>0.0</td>\n",
       "      <td>0.0</td>\n",
       "      <td>0.0</td>\n",
       "      <td>0.4</td>\n",
       "      <td>9.068</td>\n",
       "    </tr>\n",
       "    <tr>\n",
       "      <th>2008-10-12</th>\n",
       "      <td>2008-10-12</td>\n",
       "      <td>66.28</td>\n",
       "      <td>12.15</td>\n",
       "      <td>512.83</td>\n",
       "      <td>3.2</td>\n",
       "      <td>12.43</td>\n",
       "      <td>6.63</td>\n",
       "      <td>252.50</td>\n",
       "      <td>W</td>\n",
       "      <td>0.0</td>\n",
       "      <td>0.0</td>\n",
       "      <td>0.4</td>\n",
       "      <td>0.0</td>\n",
       "      <td>0.0</td>\n",
       "      <td>0.4</td>\n",
       "      <td>9.740</td>\n",
       "    </tr>\n",
       "  </tbody>\n",
       "</table>\n",
       "</div>"
      ],
      "text/plain": [
       "                 date  waterlv  watertemp   sealv  precip   temp  vwind  \\\n",
       "date                                                                      \n",
       "2008-09-28 2008-09-28    62.59      12.49  479.33     0.9  13.15   7.75   \n",
       "2008-09-29 2008-09-29    61.62      12.47  493.00     5.7  10.96   6.13   \n",
       "2008-09-30 2008-09-30    61.48      12.44  492.00     2.4  10.29   6.13   \n",
       "2008-10-01 2008-10-01    61.23      12.42  493.50     9.6  11.06   9.25   \n",
       "2008-10-02 2008-10-02    61.33      12.40  497.83     0.0  10.30  11.38   \n",
       "2008-10-03 2008-10-03    63.72      12.39  506.17     0.2   9.19   7.00   \n",
       "2008-10-04 2008-10-04    65.63      12.37  506.50     0.0   8.95   6.38   \n",
       "2008-10-05 2008-10-05    66.91      12.35  483.67     0.5   8.83   7.88   \n",
       "2008-10-06 2008-10-06    67.23      12.33  504.67     0.0   9.70   3.13   \n",
       "2008-10-07 2008-10-07    67.23      12.30  513.67     0.0   6.55   1.88   \n",
       "2008-10-08 2008-10-08    67.47      12.27  511.83     0.0   7.81   1.50   \n",
       "2008-10-09 2008-10-09    66.82      12.25  508.67     0.4   9.65   3.38   \n",
       "2008-10-10 2008-10-10    66.12      12.22  510.00     0.0  11.63   5.38   \n",
       "2008-10-11 2008-10-11    66.33      12.19  497.50     0.0  13.06   6.25   \n",
       "2008-10-12 2008-10-12    66.28      12.15  512.83     3.2  12.43   6.63   \n",
       "\n",
       "             dwind wind  precip1  precip2  precip3  precip4  precip5  \\\n",
       "date                                                                   \n",
       "2008-09-28  255.00    W      0.0      0.0      0.0      0.0      0.0   \n",
       "2008-09-29  240.00   SW      0.9      0.0      0.0      0.0      0.0   \n",
       "2008-09-30  207.50   SW      5.7      0.9      0.0      0.0      0.0   \n",
       "2008-10-01  213.75   SW      2.4      5.7      0.9      0.0      0.0   \n",
       "2008-10-02  220.00   SW      9.6      2.4      5.7      0.9      0.0   \n",
       "2008-10-03  211.25   SW      0.0      9.6      2.4      5.7      0.9   \n",
       "2008-10-04  225.00   SW      0.2      0.0      9.6      2.4      5.7   \n",
       "2008-10-05  198.75    S      0.0      0.2      0.0      9.6      2.4   \n",
       "2008-10-06  237.50   SW      0.5      0.0      0.2      0.0      9.6   \n",
       "2008-10-07  162.50    S      0.0      0.5      0.0      0.2      0.0   \n",
       "2008-10-08  128.75   SE      0.0      0.0      0.5      0.0      0.2   \n",
       "2008-10-09  200.00    S      0.0      0.0      0.0      0.5      0.0   \n",
       "2008-10-10  243.75   SW      0.4      0.0      0.0      0.0      0.5   \n",
       "2008-10-11  230.00   SW      0.0      0.4      0.0      0.0      0.0   \n",
       "2008-10-12  252.50    W      0.0      0.0      0.4      0.0      0.0   \n",
       "\n",
       "            precipsum  meantemp  \n",
       "date                             \n",
       "2008-09-28        0.0    11.116  \n",
       "2008-09-29        0.9    11.320  \n",
       "2008-09-30        6.6    11.340  \n",
       "2008-10-01        9.0    11.388  \n",
       "2008-10-02       18.6    11.692  \n",
       "2008-10-03       18.6    11.152  \n",
       "2008-10-04       17.9    10.360  \n",
       "2008-10-05       12.2     9.958  \n",
       "2008-10-06       10.3     9.666  \n",
       "2008-10-07        0.7     9.394  \n",
       "2008-10-08        0.7     8.644  \n",
       "2008-10-09        0.5     8.368  \n",
       "2008-10-10        0.9     8.508  \n",
       "2008-10-11        0.4     9.068  \n",
       "2008-10-12        0.4     9.740  "
      ]
     },
     "execution_count": 19,
     "metadata": {},
     "output_type": "execute_result"
    }
   ],
   "source": [
    "#head\n",
    "frame.head(15)"
   ]
  },
  {
   "cell_type": "code",
   "execution_count": 20,
   "metadata": {},
   "outputs": [
    {
     "name": "stdout",
     "output_type": "stream",
     "text": [
      "           waterlv    watertemp        sealv       precip         temp  \\\n",
      "count  2129.000000  2129.000000  2129.000000  2129.000000  2129.000000   \n",
      "mean     89.282353     9.550714   506.334171     1.905838     7.919333   \n",
      "std      21.178420     2.011780    19.060688     4.318492     7.436094   \n",
      "min      48.500000     6.320000   449.270000     0.000000   -16.580000   \n",
      "25%      73.500000     7.690000   494.330000     0.000000     2.630000   \n",
      "50%      87.260000     9.330000   506.000000     0.090000     7.590000   \n",
      "75%     106.910000    11.570000   516.600000     1.700000    13.980000   \n",
      "max     146.330000    12.800000   611.440000    47.000000    27.810000   \n",
      "\n",
      "             vwind        dwind      precip1      precip2      precip3  \\\n",
      "count  2129.000000  2129.000000  2129.000000  2129.000000  2129.000000   \n",
      "mean      4.606801   180.649624     1.909549     1.912607     1.906736   \n",
      "std       2.243889    70.911251     4.320333     4.321564     4.316912   \n",
      "min       0.380000    13.750000     0.000000     0.000000     0.000000   \n",
      "25%       3.000000   125.000000     0.000000     0.000000     0.000000   \n",
      "50%       4.130000   192.500000     0.090000     0.090000     0.090000   \n",
      "75%       5.750000   238.750000     1.700000     1.700000     1.700000   \n",
      "max      16.500000   350.000000    47.000000    47.000000    47.000000   \n",
      "\n",
      "           precip4      precip5    precipsum     meantemp  \n",
      "count  2129.000000  2129.000000  2129.000000  2129.000000  \n",
      "mean      1.906036     1.907403     9.542330     7.925635  \n",
      "std       4.317114     4.321047    11.652337     7.211327  \n",
      "min       0.000000     0.000000     0.000000   -13.480000  \n",
      "25%       0.000000     0.000000     1.100000     2.742000  \n",
      "50%       0.090000     0.090000     5.480000     7.706000  \n",
      "75%       1.700000     1.700000    13.100000    13.960000  \n",
      "max      47.000000    47.000000    87.000000    24.932000  \n"
     ]
    }
   ],
   "source": [
    "#descriptions\n",
    "print(frame.describe())"
   ]
  },
  {
   "cell_type": "code",
   "execution_count": 21,
   "metadata": {},
   "outputs": [
    {
     "data": {
      "text/html": [
       "<div>\n",
       "<style scoped>\n",
       "    .dataframe tbody tr th:only-of-type {\n",
       "        vertical-align: middle;\n",
       "    }\n",
       "\n",
       "    .dataframe tbody tr th {\n",
       "        vertical-align: top;\n",
       "    }\n",
       "\n",
       "    .dataframe thead th {\n",
       "        text-align: right;\n",
       "    }\n",
       "</style>\n",
       "<table border=\"1\" class=\"dataframe\">\n",
       "  <thead>\n",
       "    <tr style=\"text-align: right;\">\n",
       "      <th></th>\n",
       "      <th>dwind</th>\n",
       "      <th>meantemp</th>\n",
       "      <th>precip</th>\n",
       "      <th>precip1</th>\n",
       "      <th>precip2</th>\n",
       "      <th>precip3</th>\n",
       "      <th>precip4</th>\n",
       "      <th>precip5</th>\n",
       "      <th>precipsum</th>\n",
       "      <th>sealv</th>\n",
       "      <th>temp</th>\n",
       "      <th>vwind</th>\n",
       "      <th>waterlv</th>\n",
       "      <th>watertemp</th>\n",
       "    </tr>\n",
       "    <tr>\n",
       "      <th>date</th>\n",
       "      <th></th>\n",
       "      <th></th>\n",
       "      <th></th>\n",
       "      <th></th>\n",
       "      <th></th>\n",
       "      <th></th>\n",
       "      <th></th>\n",
       "      <th></th>\n",
       "      <th></th>\n",
       "      <th></th>\n",
       "      <th></th>\n",
       "      <th></th>\n",
       "      <th></th>\n",
       "      <th></th>\n",
       "    </tr>\n",
       "  </thead>\n",
       "  <tbody>\n",
       "    <tr>\n",
       "      <th>2008-09-28</th>\n",
       "      <td>255.0</td>\n",
       "      <td>11.116</td>\n",
       "      <td>0.9</td>\n",
       "      <td>0.0</td>\n",
       "      <td>0.0</td>\n",
       "      <td>0.0</td>\n",
       "      <td>0.0</td>\n",
       "      <td>0.0</td>\n",
       "      <td>0.0</td>\n",
       "      <td>479.33</td>\n",
       "      <td>13.15</td>\n",
       "      <td>7.75</td>\n",
       "      <td>62.59</td>\n",
       "      <td>12.49</td>\n",
       "    </tr>\n",
       "    <tr>\n",
       "      <th>2008-09-29</th>\n",
       "      <td>240.0</td>\n",
       "      <td>11.320</td>\n",
       "      <td>5.7</td>\n",
       "      <td>0.9</td>\n",
       "      <td>0.0</td>\n",
       "      <td>0.0</td>\n",
       "      <td>0.0</td>\n",
       "      <td>0.0</td>\n",
       "      <td>0.9</td>\n",
       "      <td>493.00</td>\n",
       "      <td>10.96</td>\n",
       "      <td>6.13</td>\n",
       "      <td>61.62</td>\n",
       "      <td>12.47</td>\n",
       "    </tr>\n",
       "    <tr>\n",
       "      <th>2008-09-30</th>\n",
       "      <td>207.5</td>\n",
       "      <td>11.340</td>\n",
       "      <td>2.4</td>\n",
       "      <td>5.7</td>\n",
       "      <td>0.9</td>\n",
       "      <td>0.0</td>\n",
       "      <td>0.0</td>\n",
       "      <td>0.0</td>\n",
       "      <td>6.6</td>\n",
       "      <td>492.00</td>\n",
       "      <td>10.29</td>\n",
       "      <td>6.13</td>\n",
       "      <td>61.48</td>\n",
       "      <td>12.44</td>\n",
       "    </tr>\n",
       "  </tbody>\n",
       "</table>\n",
       "</div>"
      ],
      "text/plain": [
       "            dwind  meantemp  precip  precip1  precip2  precip3  precip4  \\\n",
       "date                                                                      \n",
       "2008-09-28  255.0    11.116     0.9      0.0      0.0      0.0      0.0   \n",
       "2008-09-29  240.0    11.320     5.7      0.9      0.0      0.0      0.0   \n",
       "2008-09-30  207.5    11.340     2.4      5.7      0.9      0.0      0.0   \n",
       "\n",
       "            precip5  precipsum   sealv   temp  vwind  waterlv  watertemp  \n",
       "date                                                                      \n",
       "2008-09-28      0.0        0.0  479.33  13.15   7.75    62.59      12.49  \n",
       "2008-09-29      0.0        0.9  493.00  10.96   6.13    61.62      12.47  \n",
       "2008-09-30      0.0        6.6  492.00  10.29   6.13    61.48      12.44  "
      ]
     },
     "execution_count": 21,
     "metadata": {},
     "output_type": "execute_result"
    }
   ],
   "source": [
    "frame14 = frame[frame.columns.difference(['date', 'wind'])]\n",
    "framey = frame14[frame14.columns.difference(['waterlv'])]\n",
    "frame14[0:3]"
   ]
  },
  {
   "cell_type": "code",
   "execution_count": 22,
   "metadata": {},
   "outputs": [
    {
     "name": "stdout",
     "output_type": "stream",
     "text": [
      "            waterlv  watertemp     sealv    precip      temp     vwind  \\\n",
      "waterlv    1.000000  -0.098659  0.359107  0.005270 -0.337894 -0.000283   \n",
      "watertemp -0.098659   1.000000  0.341774  0.155111  0.539043 -0.009573   \n",
      "sealv      0.359107   0.341774  1.000000  0.176834  0.149137  0.053729   \n",
      "precip     0.005270   0.155111  0.176834  1.000000  0.144730  0.126234   \n",
      "temp      -0.337894   0.539043  0.149137  0.144730  1.000000  0.026328   \n",
      "vwind     -0.000283  -0.009573  0.053729  0.126234  0.026328  1.000000   \n",
      "dwind      0.068600   0.081435  0.158080  0.076639  0.069502  0.357772   \n",
      "precip1    0.026013   0.157001  0.230579  0.176040  0.116302  0.188780   \n",
      "precip2    0.058660   0.158838  0.191014  0.095769  0.100086  0.053903   \n",
      "precip3    0.079909   0.159606  0.173910  0.029291  0.101746  0.012702   \n",
      "precip4    0.090588   0.159982  0.167553  0.084179  0.109871 -0.016505   \n",
      "precip5    0.098240   0.162470  0.170070  0.069315  0.111061 -0.024950   \n",
      "precipsum  0.130997   0.295772  0.345908  0.168532  0.199827  0.079323   \n",
      "meantemp  -0.321113   0.597437  0.221649  0.160809  0.930174 -0.012677   \n",
      "\n",
      "              dwind   precip1   precip2   precip3   precip4   precip5  \\\n",
      "waterlv    0.068600  0.026013  0.058660  0.079909  0.090588  0.098240   \n",
      "watertemp  0.081435  0.157001  0.158838  0.159606  0.159982  0.162470   \n",
      "sealv      0.158080  0.230579  0.191014  0.173910  0.167553  0.170070   \n",
      "precip     0.076639  0.176040  0.095769  0.029291  0.084179  0.069315   \n",
      "temp       0.069502  0.116302  0.100086  0.101746  0.109871  0.111061   \n",
      "vwind      0.357772  0.188780  0.053903  0.012702 -0.016505 -0.024950   \n",
      "dwind      1.000000  0.183948  0.099229  0.060857  0.037580  0.051416   \n",
      "precip1    0.183948  1.000000  0.176611  0.096050  0.028969  0.086649   \n",
      "precip2    0.099229  0.176611  1.000000  0.176950  0.095766  0.031063   \n",
      "precip3    0.060857  0.096050  0.176950  1.000000  0.177397  0.092648   \n",
      "precip4    0.037580  0.028969  0.095766  0.177397  1.000000  0.176722   \n",
      "precip5    0.051416  0.086649  0.031063  0.092648  0.176722  1.000000   \n",
      "precipsum  0.160540  0.514720  0.548913  0.571796  0.548007  0.514276   \n",
      "meantemp   0.052279  0.160796  0.153202  0.139451  0.127434  0.117675   \n",
      "\n",
      "           precipsum  meantemp  \n",
      "waterlv     0.130997 -0.321113  \n",
      "watertemp   0.295772  0.597437  \n",
      "sealv       0.345908  0.221649  \n",
      "precip      0.168532  0.160809  \n",
      "temp        0.199827  0.930174  \n",
      "vwind       0.079323 -0.012677  \n",
      "dwind       0.160540  0.052279  \n",
      "precip1     0.514720  0.160796  \n",
      "precip2     0.548913  0.153202  \n",
      "precip3     0.571796  0.139451  \n",
      "precip4     0.548007  0.127434  \n",
      "precip5     0.514276  0.117675  \n",
      "precipsum   1.000000  0.258951  \n",
      "meantemp    0.258951  1.000000  \n"
     ]
    }
   ],
   "source": [
    "#correlation\n",
    "corr = frame.corr(method = 'pearson')\n",
    "print(corr)"
   ]
  },
  {
   "cell_type": "code",
   "execution_count": 23,
   "metadata": {},
   "outputs": [
    {
     "name": "stderr",
     "output_type": "stream",
     "text": [
      "/home/agnieszka/.local/lib/python3.6/site-packages/yellowbrick/features/rankd.py:262: FutureWarning: Method .as_matrix will be removed in a future version. Use .values instead.\n",
      "  X = X.as_matrix()\n"
     ]
    },
    {
     "data": {
      "image/png": "[encoded data removed]",
      "text/plain": [
       "<Figure size 576x396 with 2 Axes>"
      ]
     },
     "metadata": {},
     "output_type": "display_data"
    }
   ],
   "source": [
    "from yellowbrick.features import Rank2D\n",
    "\n",
    "visualizer = Rank2D(algorithm=\"pearson\")\n",
    "visualizer.fit_transform(frame14)\n",
    "visualizer.poof()"
   ]
  },
  {
   "cell_type": "code",
   "execution_count": 24,
   "metadata": {},
   "outputs": [
    {
     "data": {
      "image/png": "[encoded data removed]",
      "text/plain": [
       "<Figure size 576x396 with 16 Axes>"
      ]
     },
     "metadata": {},
     "output_type": "display_data"
    }
   ],
   "source": [
    "import matplotlib.pyplot as plt\n",
    "#histograms\n",
    "frame.hist(sharex = False, sharey = False, xlabelsize = 1, ylabelsize = 1)\n",
    "plt.show()"
   ]
  },
  {
   "cell_type": "code",
   "execution_count": 25,
   "metadata": {},
   "outputs": [],
   "source": [
    "import seaborn as sns\n",
    "#sns.set(style=\"ticks\")\n",
    "\n",
    "#sns.pairplot(data=frame, kind=\"reg\")"
   ]
  },
  {
   "cell_type": "code",
   "execution_count": 26,
   "metadata": {},
   "outputs": [
    {
     "name": "stdout",
     "output_type": "stream",
     "text": [
      "waterlv      0.192278\n",
      "watertemp    0.136306\n",
      "sealv        0.428498\n",
      "precip       4.210356\n",
      "temp        -0.154314\n",
      "vwind        1.160223\n",
      "dwind       -0.320087\n",
      "precip1      4.203751\n",
      "precip2      4.198780\n",
      "precip3      4.211221\n",
      "precip4      4.211071\n",
      "precip5      4.206216\n",
      "precipsum    1.983224\n",
      "meantemp    -0.150414\n",
      "dtype: float64\n"
     ]
    }
   ],
   "source": [
    "#skewness\n",
    "skew = frame.skew()\n",
    "print(skew)"
   ]
  },
  {
   "cell_type": "code",
   "execution_count": 35,
   "metadata": {},
   "outputs": [
    {
     "data": {
      "text/html": [
       "<div>\n",
       "<style scoped>\n",
       "    .dataframe tbody tr th:only-of-type {\n",
       "        vertical-align: middle;\n",
       "    }\n",
       "\n",
       "    .dataframe tbody tr th {\n",
       "        vertical-align: top;\n",
       "    }\n",
       "\n",
       "    .dataframe thead th {\n",
       "        text-align: right;\n",
       "    }\n",
       "</style>\n",
       "<table border=\"1\" class=\"dataframe\">\n",
       "  <thead>\n",
       "    <tr style=\"text-align: right;\">\n",
       "      <th></th>\n",
       "      <th>dwind</th>\n",
       "      <th>meantemp</th>\n",
       "      <th>precip</th>\n",
       "      <th>precip1</th>\n",
       "      <th>precip2</th>\n",
       "      <th>precip3</th>\n",
       "      <th>precip4</th>\n",
       "      <th>precip5</th>\n",
       "      <th>precipsum</th>\n",
       "      <th>sealv</th>\n",
       "      <th>temp</th>\n",
       "      <th>vwind</th>\n",
       "      <th>waterlv</th>\n",
       "      <th>watertemp</th>\n",
       "    </tr>\n",
       "  </thead>\n",
       "  <tbody>\n",
       "    <tr>\n",
       "      <th>0</th>\n",
       "      <td>1.063765</td>\n",
       "      <td>0.442775</td>\n",
       "      <td>0.621362</td>\n",
       "      <td>-0.887044</td>\n",
       "      <td>-0.886836</td>\n",
       "      <td>-0.88572</td>\n",
       "      <td>-0.884847</td>\n",
       "      <td>-0.884599</td>\n",
       "      <td>-1.557798</td>\n",
       "      <td>-1.489672</td>\n",
       "      <td>0.703069</td>\n",
       "      <td>1.343533</td>\n",
       "      <td>-1.307498</td>\n",
       "      <td>1.383112</td>\n",
       "    </tr>\n",
       "    <tr>\n",
       "      <th>1</th>\n",
       "      <td>0.838746</td>\n",
       "      <td>0.471049</td>\n",
       "      <td>1.588824</td>\n",
       "      <td>0.618927</td>\n",
       "      <td>-0.886836</td>\n",
       "      <td>-0.88572</td>\n",
       "      <td>-0.884847</td>\n",
       "      <td>-0.884599</td>\n",
       "      <td>-0.995177</td>\n",
       "      <td>-0.680707</td>\n",
       "      <td>0.405022</td>\n",
       "      <td>0.832361</td>\n",
       "      <td>-1.362830</td>\n",
       "      <td>1.375174</td>\n",
       "    </tr>\n",
       "    <tr>\n",
       "      <th>2</th>\n",
       "      <td>0.358168</td>\n",
       "      <td>0.473821</td>\n",
       "      <td>1.252593</td>\n",
       "      <td>1.587313</td>\n",
       "      <td>0.616872</td>\n",
       "      <td>-0.88572</td>\n",
       "      <td>-0.884847</td>\n",
       "      <td>-0.884599</td>\n",
       "      <td>0.224872</td>\n",
       "      <td>-0.737806</td>\n",
       "      <td>0.313974</td>\n",
       "      <td>0.832361</td>\n",
       "      <td>-1.370855</td>\n",
       "      <td>1.363247</td>\n",
       "    </tr>\n",
       "  </tbody>\n",
       "</table>\n",
       "</div>"
      ],
      "text/plain": [
       "      dwind  meantemp    precip   precip1   precip2  precip3   precip4  \\\n",
       "0  1.063765  0.442775  0.621362 -0.887044 -0.886836 -0.88572 -0.884847   \n",
       "1  0.838746  0.471049  1.588824  0.618927 -0.886836 -0.88572 -0.884847   \n",
       "2  0.358168  0.473821  1.252593  1.587313  0.616872 -0.88572 -0.884847   \n",
       "\n",
       "    precip5  precipsum     sealv      temp     vwind   waterlv  watertemp  \n",
       "0 -0.884599  -1.557798 -1.489672  0.703069  1.343533 -1.307498   1.383112  \n",
       "1 -0.884599  -0.995177 -0.680707  0.405022  0.832361 -1.362830   1.375174  \n",
       "2 -0.884599   0.224872 -0.737806  0.313974  0.832361 -1.370855   1.363247  "
      ]
     },
     "execution_count": 35,
     "metadata": {},
     "output_type": "execute_result"
    }
   ],
   "source": [
    "# funkcja wykonujaca transfromacje BoxCox i Yeo Johnson\n",
    "from sklearn.preprocessing import PowerTransformer\n",
    "def boxcox(x):\n",
    "    boxcox = x.copy(deep=True)\n",
    "    for column in boxcox.columns:\n",
    "        boxcox[column] = scipy.stats.boxcox(x[column] + 1e-19)[0]\n",
    "    return boxcox\n",
    "\n",
    "def yeoJohnson(x):\n",
    "    pt = PowerTransformer()\n",
    "    yjs = pt.fit_transform(x)\n",
    "    df = pd.DataFrame(yjs)\n",
    "    df.columns = x.columns\n",
    "    return df\n",
    "\n",
    "yj = yeoJohnson(frame14)\n",
    "yj[0:3]"
   ]
  },
  {
   "cell_type": "code",
   "execution_count": 28,
   "metadata": {},
   "outputs": [
    {
     "name": "stderr",
     "output_type": "stream",
     "text": [
      "/home/agnieszka/.local/lib/python3.6/site-packages/yellowbrick/features/rankd.py:262: FutureWarning: Method .as_matrix will be removed in a future version. Use .values instead.\n",
      "  X = X.as_matrix()\n"
     ]
    },
    {
     "data": {
      "image/png": "[encoded data removed]",
      "text/plain": [
       "<Figure size 576x396 with 2 Axes>"
      ]
     },
     "metadata": {},
     "output_type": "display_data"
    }
   ],
   "source": [
    "yj.skew()\n",
    "visualizer = Rank2D(algorithm=\"pearson\")\n",
    "visualizer.fit_transform(yj)\n",
    "visualizer.poof()"
   ]
  },
  {
   "cell_type": "code",
   "execution_count": 60,
   "metadata": {},
   "outputs": [],
   "source": [
    "#split-out validation dataset\n",
    "from sklearn.model_selection import train_test_split\n",
    "array = frame.values\n",
    "X = array[:, (2,3,4,5,6,7,9,10,11,12,13,14,15)].astype(np.float)\n",
    "Y = array[:, 1].astype(np.float)\n",
    "validation_size = 0.20\n",
    "seed = 7 \n",
    "X_train, X_validation, Y_train, Y_validation = train_test_split(X,Y, test_size = validation_size, random_state = seed)"
   ]
  },
  {
   "cell_type": "code",
   "execution_count": 36,
   "metadata": {},
   "outputs": [],
   "source": [
    "#split-out after transformation\n",
    "tarray = yj.values\n",
    "Xt = tarray[:, (0,1,2,3,4,5,6,7,8,9,10,11,13)].astype(np.float)\n",
    "Yt = tarray[:, 12].astype(np.float)\n",
    "validation_size = 0.20\n",
    "seed = 7 \n",
    "Xt_train, Xt_validation, Yt_train, Yt_validation = train_test_split(Xt,Yt, test_size = validation_size, random_state = seed)"
   ]
  },
  {
   "cell_type": "markdown",
   "metadata": {},
   "source": [
    "**Random Forest**"
   ]
  },
  {
   "cell_type": "code",
   "execution_count": 34,
   "metadata": {},
   "outputs": [
    {
     "data": {
      "text/plain": [
       "RandomForestClassifier(bootstrap=True, class_weight=None, criterion='gini',\n",
       "            max_depth=2, max_features='auto', max_leaf_nodes=None,\n",
       "            min_impurity_decrease=0.0, min_impurity_split=None,\n",
       "            min_samples_leaf=1, min_samples_split=2,\n",
       "            min_weight_fraction_leaf=0.0, n_estimators=100, n_jobs=None,\n",
       "            oob_score=False, random_state=0, verbose=0, warm_start=False)"
      ]
     },
     "execution_count": 34,
     "metadata": {},
     "output_type": "execute_result"
    }
   ],
   "source": [
    "from sklearn.ensemble import RandomForestClassifier\n",
    "clf = RandomForestClassifier(n_estimators=100, max_depth=2,random_state=0)\n",
    "clf.fit(X_train, Y_train.astype(np.int))"
   ]
  },
  {
   "cell_type": "code",
   "execution_count": 31,
   "metadata": {},
   "outputs": [
    {
     "data": {
      "text/plain": [
       "13.404568375840782"
      ]
     },
     "execution_count": 31,
     "metadata": {},
     "output_type": "execute_result"
    }
   ],
   "source": [
    "np.std(abs(Y_validation - clf.predict(X_validation)))"
   ]
  },
  {
   "cell_type": "code",
   "execution_count": 32,
   "metadata": {},
   "outputs": [
    {
     "data": {
      "text/plain": [
       "RandomForestRegressor(bootstrap=True, criterion='mse', max_depth=2,\n",
       "           max_features='auto', max_leaf_nodes=None,\n",
       "           min_impurity_decrease=0.0, min_impurity_split=None,\n",
       "           min_samples_leaf=1, min_samples_split=2,\n",
       "           min_weight_fraction_leaf=0.0, n_estimators=100, n_jobs=None,\n",
       "           oob_score=False, random_state=0, verbose=0, warm_start=False)"
      ]
     },
     "execution_count": 32,
     "metadata": {},
     "output_type": "execute_result"
    }
   ],
   "source": [
    "from sklearn.ensemble import RandomForestRegressor\n",
    "clfreg = RandomForestRegressor(n_estimators=100, max_depth=2,random_state=0)\n",
    "clfreg.fit(X_train, Y_train)"
   ]
  },
  {
   "cell_type": "code",
   "execution_count": 33,
   "metadata": {},
   "outputs": [
    {
     "data": {
      "text/plain": [
       "9.729827245797853"
      ]
     },
     "execution_count": 33,
     "metadata": {},
     "output_type": "execute_result"
    }
   ],
   "source": [
    "np.std(abs(Y_validation - clfreg.predict(X_validation)))"
   ]
  },
  {
   "cell_type": "markdown",
   "metadata": {},
   "source": [
    "**Ridge**"
   ]
  },
  {
   "cell_type": "code",
   "execution_count": 43,
   "metadata": {},
   "outputs": [
    {
     "data": {
      "text/plain": [
       "RidgeCV(alphas=array([ 0.1,  1. , 10. ]), cv=3, fit_intercept=True,\n",
       "    gcv_mode=None, normalize=False, scoring=None, store_cv_values=False)"
      ]
     },
     "execution_count": 43,
     "metadata": {},
     "output_type": "execute_result"
    }
   ],
   "source": [
    "from sklearn import linear_model\n",
    "reg = linear_model.Ridge(alpha=.5)\n",
    "reg.fit(X_train, Y_train) \n",
    "treg = linear_model.Ridge(alpha=.5)\n",
    "treg.fit(Xt_train, Yt_train) "
   ]
  },
  {
   "cell_type": "code",
   "execution_count": 44,
   "metadata": {},
   "outputs": [
    {
     "data": {
      "text/plain": [
       "9.461268788141634"
      ]
     },
     "execution_count": 44,
     "metadata": {},
     "output_type": "execute_result"
    }
   ],
   "source": [
    "np.std(abs(Y_validation - reg.predict(X_validation)))"
   ]
  },
  {
   "cell_type": "code",
   "execution_count": 45,
   "metadata": {},
   "outputs": [
    {
     "data": {
      "text/plain": [
       "23.651392149332757"
      ]
     },
     "execution_count": 45,
     "metadata": {},
     "output_type": "execute_result"
    }
   ],
   "source": [
    "np.std(abs(Y_validation - treg.predict(X_validation)))"
   ]
  },
  {
   "cell_type": "markdown",
   "metadata": {},
   "source": [
    "**Lasso**"
   ]
  },
  {
   "cell_type": "code",
   "execution_count": 46,
   "metadata": {},
   "outputs": [
    {
     "data": {
      "text/plain": [
       "Lasso(alpha=0.1, copy_X=True, fit_intercept=True, max_iter=1000,\n",
       "   normalize=False, positive=False, precompute=False, random_state=None,\n",
       "   selection='cyclic', tol=0.0001, warm_start=False)"
      ]
     },
     "execution_count": 46,
     "metadata": {},
     "output_type": "execute_result"
    }
   ],
   "source": [
    "las = linear_model.Lasso(alpha=0.1)\n",
    "las.fit(X_train, Y_train)\n",
    "tlas = linear_model.Lasso(alpha=0.1)\n",
    "tlas.fit(Xt_train, Yt_train)"
   ]
  },
  {
   "cell_type": "code",
   "execution_count": 47,
   "metadata": {},
   "outputs": [
    {
     "data": {
      "text/plain": [
       "9.452017251533752"
      ]
     },
     "execution_count": 47,
     "metadata": {},
     "output_type": "execute_result"
    }
   ],
   "source": [
    "np.std(abs(Y_validation - las.predict(X_validation)))"
   ]
  },
  {
   "cell_type": "code",
   "execution_count": 48,
   "metadata": {},
   "outputs": [
    {
     "data": {
      "text/plain": [
       "22.41165354815022"
      ]
     },
     "execution_count": 48,
     "metadata": {},
     "output_type": "execute_result"
    }
   ],
   "source": [
    "np.std(abs(Y_validation - tlas.predict(X_validation)))"
   ]
  },
  {
   "cell_type": "markdown",
   "metadata": {},
   "source": [
    "**Elastic Net**"
   ]
  },
  {
   "cell_type": "code",
   "execution_count": 50,
   "metadata": {},
   "outputs": [
    {
     "data": {
      "text/plain": [
       "ElasticNet(alpha=1.0, copy_X=True, fit_intercept=True, l1_ratio=0.5,\n",
       "      max_iter=1000, normalize=False, positive=False, precompute=False,\n",
       "      random_state=0, selection='cyclic', tol=0.0001, warm_start=False)"
      ]
     },
     "execution_count": 50,
     "metadata": {},
     "output_type": "execute_result"
    }
   ],
   "source": [
    "from sklearn.linear_model import ElasticNet\n",
    "en = ElasticNet(random_state=0)\n",
    "en.fit(X_train, Y_train)\n",
    "ten = ElasticNet(random_state=0)\n",
    "ten.fit(Xt_train, Yt_train)"
   ]
  },
  {
   "cell_type": "code",
   "execution_count": 51,
   "metadata": {},
   "outputs": [
    {
     "data": {
      "text/plain": [
       "9.417569441643822"
      ]
     },
     "execution_count": 51,
     "metadata": {},
     "output_type": "execute_result"
    }
   ],
   "source": [
    "np.std(abs(Y_validation - en.predict(X_validation)))"
   ]
  },
  {
   "cell_type": "code",
   "execution_count": 52,
   "metadata": {},
   "outputs": [
    {
     "data": {
      "text/plain": [
       "21.10052937105105"
      ]
     },
     "execution_count": 52,
     "metadata": {},
     "output_type": "execute_result"
    }
   ],
   "source": [
    "np.std(abs(Y_validation - ten.predict(X_validation)))"
   ]
  },
  {
   "cell_type": "markdown",
   "metadata": {},
   "source": [
    "**SVM**"
   ]
  },
  {
   "cell_type": "code",
   "execution_count": 78,
   "metadata": {},
   "outputs": [
    {
     "data": {
      "text/plain": [
       "SVC(C=1.0, cache_size=200, class_weight=None, coef0=0.0,\n",
       "  decision_function_shape='ovr', degree=3, gamma='scale', kernel='rbf',\n",
       "  max_iter=-1, probability=False, random_state=None, shrinking=True,\n",
       "  tol=0.001, verbose=False)"
      ]
     },
     "execution_count": 78,
     "metadata": {},
     "output_type": "execute_result"
    }
   ],
   "source": [
    "from sklearn import svm\n",
    "sv = svm.SVC(gamma='scale')\n",
    "sv.fit(X_train, Y_train.astype(np.int))\n",
    "tsv = svm.SVC(gamma='scale')\n",
    "tsv.fit(Xt_train, Yt_train.astype(np.int))"
   ]
  },
  {
   "cell_type": "code",
   "execution_count": 79,
   "metadata": {},
   "outputs": [
    {
     "data": {
      "text/plain": [
       "12.78796736938153"
      ]
     },
     "execution_count": 79,
     "metadata": {},
     "output_type": "execute_result"
    }
   ],
   "source": [
    "np.std(abs(Y_validation - sv.predict(X_validation)))"
   ]
  },
  {
   "cell_type": "code",
   "execution_count": 80,
   "metadata": {},
   "outputs": [
    {
     "data": {
      "text/plain": [
       "21.10052937105105"
      ]
     },
     "execution_count": 80,
     "metadata": {},
     "output_type": "execute_result"
    }
   ],
   "source": [
    "np.std(abs(Y_validation - tsv.predict(X_validation)))"
   ]
  },
  {
   "cell_type": "code",
   "execution_count": 81,
   "metadata": {},
   "outputs": [
    {
     "name": "stderr",
     "output_type": "stream",
     "text": [
      "/home/agnieszka/anaconda3/lib/python3.6/site-packages/sklearn/svm/base.py:196: FutureWarning: The default value of gamma will change from 'auto' to 'scale' in version 0.22 to account better for unscaled features. Set gamma explicitly to 'auto' or 'scale' to avoid this warning.\n",
      "  \"avoid this warning.\", FutureWarning)\n",
      "/home/agnieszka/anaconda3/lib/python3.6/site-packages/sklearn/svm/base.py:196: FutureWarning: The default value of gamma will change from 'auto' to 'scale' in version 0.22 to account better for unscaled features. Set gamma explicitly to 'auto' or 'scale' to avoid this warning.\n",
      "  \"avoid this warning.\", FutureWarning)\n"
     ]
    },
    {
     "data": {
      "text/plain": [
       "SVR(C=1.0, cache_size=200, coef0=0.0, degree=3, epsilon=0.1,\n",
       "  gamma='auto_deprecated', kernel='rbf', max_iter=-1, shrinking=True,\n",
       "  tol=0.001, verbose=False)"
      ]
     },
     "execution_count": 81,
     "metadata": {},
     "output_type": "execute_result"
    }
   ],
   "source": [
    "svr = svm.SVR()\n",
    "svr.fit(X_train, Y_train)\n",
    "tsvr = svm.SVR()\n",
    "tsvr.fit(Xt_train, Yt_train)"
   ]
  },
  {
   "cell_type": "code",
   "execution_count": 82,
   "metadata": {},
   "outputs": [
    {
     "data": {
      "text/plain": [
       "11.638257802913923"
      ]
     },
     "execution_count": 82,
     "metadata": {},
     "output_type": "execute_result"
    }
   ],
   "source": [
    "np.std(abs(Y_validation - svr.predict(X_validation)))"
   ]
  },
  {
   "cell_type": "code",
   "execution_count": 83,
   "metadata": {},
   "outputs": [
    {
     "data": {
      "text/plain": [
       "21.10052937105105"
      ]
     },
     "execution_count": 83,
     "metadata": {},
     "output_type": "execute_result"
    }
   ],
   "source": [
    "np.std(abs(Y_validation - tsvr.predict(X_validation)))"
   ]
  },
  {
   "cell_type": "markdown",
   "metadata": {},
   "source": [
    "**Stochastic Gradient**"
   ]
  },
  {
   "cell_type": "code",
   "execution_count": 88,
   "metadata": {},
   "outputs": [
    {
     "name": "stderr",
     "output_type": "stream",
     "text": [
      "/home/agnieszka/anaconda3/lib/python3.6/site-packages/sklearn/linear_model/stochastic_gradient.py:183: FutureWarning: max_iter and tol parameters have been added in SGDClassifier in 0.19. If max_iter is set but tol is left unset, the default value for tol in 0.19 and 0.20 will be None (which is equivalent to -infinity, so it has no effect) but will change in 0.21 to 1e-3. Specify tol to silence this warning.\n",
      "  FutureWarning)\n",
      "/home/agnieszka/anaconda3/lib/python3.6/site-packages/sklearn/linear_model/stochastic_gradient.py:183: FutureWarning: max_iter and tol parameters have been added in SGDClassifier in 0.19. If max_iter is set but tol is left unset, the default value for tol in 0.19 and 0.20 will be None (which is equivalent to -infinity, so it has no effect) but will change in 0.21 to 1e-3. Specify tol to silence this warning.\n",
      "  FutureWarning)\n"
     ]
    },
    {
     "data": {
      "text/plain": [
       "SGDClassifier(alpha=0.0001, average=False, class_weight=None,\n",
       "       early_stopping=False, epsilon=0.1, eta0=0.0, fit_intercept=True,\n",
       "       l1_ratio=0.15, learning_rate='optimal', loss='hinge', max_iter=5,\n",
       "       n_iter=None, n_iter_no_change=5, n_jobs=None, penalty='l2',\n",
       "       power_t=0.5, random_state=None, shuffle=True, tol=None,\n",
       "       validation_fraction=0.1, verbose=0, warm_start=False)"
      ]
     },
     "execution_count": 88,
     "metadata": {},
     "output_type": "execute_result"
    }
   ],
   "source": [
    "from sklearn.linear_model import SGDClassifier\n",
    "sgc = SGDClassifier(loss=\"hinge\", penalty=\"l2\", max_iter=5)\n",
    "sgc.fit(X_train, Y_train.astype(np.int))  \n",
    "tsgc = SGDClassifier(loss=\"hinge\", penalty=\"l2\", max_iter=5)\n",
    "tsgc.fit(Xt_train, Yt_train.astype(np.int))  "
   ]
  },
  {
   "cell_type": "code",
   "execution_count": 87,
   "metadata": {},
   "outputs": [
    {
     "data": {
      "text/plain": [
       "21.10052937105105"
      ]
     },
     "execution_count": 87,
     "metadata": {},
     "output_type": "execute_result"
    }
   ],
   "source": [
    "np.std(abs(Y_validation - sgc.predict(X_validation)))"
   ]
  },
  {
   "cell_type": "code",
   "execution_count": 89,
   "metadata": {},
   "outputs": [
    {
     "data": {
      "text/plain": [
       "21.10052937105105"
      ]
     },
     "execution_count": 89,
     "metadata": {},
     "output_type": "execute_result"
    }
   ],
   "source": [
    "np.std(abs(Y_validation - tsgc.predict(X_validation)))"
   ]
  },
  {
   "cell_type": "code",
   "execution_count": 91,
   "metadata": {},
   "outputs": [
    {
     "data": {
      "text/plain": [
       "SGDRegressor(alpha=0.0001, average=False, early_stopping=False, epsilon=0.1,\n",
       "       eta0=0.01, fit_intercept=True, l1_ratio=0.15,\n",
       "       learning_rate='invscaling', loss='squared_loss', max_iter=1000,\n",
       "       n_iter=None, n_iter_no_change=5, penalty='l2', power_t=0.25,\n",
       "       random_state=None, shuffle=True, tol=0.001, validation_fraction=0.1,\n",
       "       verbose=0, warm_start=False)"
      ]
     },
     "execution_count": 91,
     "metadata": {},
     "output_type": "execute_result"
    }
   ],
   "source": [
    "sgr = linear_model.SGDRegressor(max_iter=1000, tol=1e-3)\n",
    "sgr.fit(X_train, Y_train)\n",
    "tsgr = linear_model.SGDRegressor(max_iter=1000, tol=1e-3)\n",
    "tsgr.fit(Xt_train, Yt_train)"
   ]
  },
  {
   "cell_type": "code",
   "execution_count": 93,
   "metadata": {},
   "outputs": [
    {
     "data": {
      "text/plain": [
       "25258211548219.44"
      ]
     },
     "execution_count": 93,
     "metadata": {},
     "output_type": "execute_result"
    }
   ],
   "source": [
    "np.std(abs(Y_validation - sgr.predict(X_validation)))"
   ]
  },
  {
   "cell_type": "code",
   "execution_count": 94,
   "metadata": {},
   "outputs": [
    {
     "data": {
      "text/plain": [
       "22.95554951960664"
      ]
     },
     "execution_count": 94,
     "metadata": {},
     "output_type": "execute_result"
    }
   ],
   "source": [
    "np.std(abs(Y_validation - tsgr.predict(X_validation)))"
   ]
  },
  {
   "cell_type": "markdown",
   "metadata": {},
   "source": [
    "**Nearest Neighbors**"
   ]
  },
  {
   "cell_type": "code",
   "execution_count": 96,
   "metadata": {},
   "outputs": [
    {
     "data": {
      "text/plain": [
       "KNeighborsRegressor(algorithm='auto', leaf_size=30, metric='minkowski',\n",
       "          metric_params=None, n_jobs=None, n_neighbors=2, p=2,\n",
       "          weights='uniform')"
      ]
     },
     "execution_count": 96,
     "metadata": {},
     "output_type": "execute_result"
    }
   ],
   "source": [
    "from sklearn.neighbors import KNeighborsRegressor\n",
    "neigh = KNeighborsRegressor(n_neighbors=2)\n",
    "neigh.fit(X_train, Y_train) \n",
    "tneigh = KNeighborsRegressor(n_neighbors=2)\n",
    "tneigh.fit(Xt_train, Yt_train) "
   ]
  },
  {
   "cell_type": "code",
   "execution_count": 97,
   "metadata": {},
   "outputs": [
    {
     "data": {
      "text/plain": [
       "11.779937255049422"
      ]
     },
     "execution_count": 97,
     "metadata": {},
     "output_type": "execute_result"
    }
   ],
   "source": [
    "np.std(abs(Y_validation - neigh.predict(X_validation)))"
   ]
  },
  {
   "cell_type": "code",
   "execution_count": 98,
   "metadata": {},
   "outputs": [
    {
     "data": {
      "text/plain": [
       "21.097069584518987"
      ]
     },
     "execution_count": 98,
     "metadata": {},
     "output_type": "execute_result"
    }
   ],
   "source": [
    "np.std(abs(Y_validation - tneigh.predict(X_validation)))"
   ]
  },
  {
   "cell_type": "code",
   "execution_count": null,
   "metadata": {},
   "outputs": [],
   "source": []
  }
 ],
 "metadata": {
  "kernelspec": {
   "display_name": "Python 3",
   "language": "python",
   "name": "python3"
  },
  "language_info": {
   "codemirror_mode": {
    "name": "ipython",
    "version": 3
   },
   "file_extension": ".py",
   "mimetype": "text/x-python",
   "name": "python",
   "nbconvert_exporter": "python",
   "pygments_lexer": "ipython3",
   "version": "3.6.5"
  }
 },
 "nbformat": 4,
 "nbformat_minor": 2
}
