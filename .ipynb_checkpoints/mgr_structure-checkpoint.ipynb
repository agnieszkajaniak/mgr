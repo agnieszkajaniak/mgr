{
 "cells": [
  {
   "cell_type": "markdown",
   "metadata": {},
   "source": [
    "1. Wstęp - po co to robię\n",
    "2. Obszar badań \n",
    "Punkt, kiedy , kto i w jakim celu pobrał dane, nazwa projektu badawczego\n",
    "3. Charakterystyka danych\n",
    " preprocessing\n",
    " eksploracyjna analiza danych\n",
    " opisy, wykresy,\n",
    "4. Metody badań \n",
    "co to jest ML\n",
    "opis algorytmów\n",
    "...\n",
    "5. Modelowanie predykcyjne stanu wód grutowych\n",
    "wstępna analiza - tableka z wynikami dla poszczególnych klasyfikatorów\n",
    "optymalizacjia parametrów modelu\n",
    "wybór optymalnych parametrów\n",
    "dyskysja wyników - który najlepszy i dlaczego\n",
    "6. Wyniki\n",
    "dlaczego, co \n",
    "wykresy pionowe pokazujace przebied rzeczywistych danych i danych po predykcji\n",
    "7. Podsumowanie i wnioski"
   ]
  },
  {
   "cell_type": "markdown",
   "metadata": {},
   "source": [
    "3. Charakterystyka danych, preprocessing, eksploracyjna analiza danych, opisy, wykresy\n",
    "Dane wejściowe przechowywane są w formacie .csv. Zawierają one 2139 obserwacji oraz 10 zmiennych: \"data\", \"poziom wody w piezometrze B1 npm [cm]\", \"temperatura wody w piezometrze B1 [C]\", \"poziom morza\" (względny), \"poziom morza [cm] npm\", \"opady\", \"prędkość wiatru\", \"kierunek wiatru\" (w stopniach), \"kierunki wiatru\"(tabela). \n",
    "Do przeprowadzania dalszych operacji i analiz na danych niezbędne było ich przetworzenie. Zmiennych \"kierunki wiatru\" oraz \"poziom morza [cm] npm\" nie wzięto pod uwagę z powodu ich niskiej istotności w kontekście badań. Nazwy zmiennych zostały ujednolicone oraz zmienione na krótsze. Zmienną dwind (kierunek wiatru) przetransformowano na radiany, a następnie zostały wyliczone zmienne zawierające wartości sin i cos dla kierunku wiatru. Stworzono także 5 nowych kolumn zawierających wartości opadów atmosferycznych od 1 do 5 dni wstecz oraz dodatkowo kolumny z sumą opadów i średnią temperaturą z pięciu dni wstecz. W wyniku utworzenia nowych kolumn część obserwacji musiało zostać usuniętych z powodu braków danych. Po zakończeniu preprocessingu dane obejmują 2129 obserwacji oraz 16 zmiennych. Zmienna \"date\" przechowywana jest w formacie datetime64, natomiast wszystkie pozostałe w formacie float64. W tabeli X przedstawiono fragment przetworzonych danych."
   ]
  }
 ],
 "metadata": {
  "kernelspec": {
   "display_name": "Python 3",
   "language": "python",
   "name": "python3"
  },
  "language_info": {
   "codemirror_mode": {
    "name": "ipython",
    "version": 3
   },
   "file_extension": ".py",
   "mimetype": "text/x-python",
   "name": "python",
   "nbconvert_exporter": "python",
   "pygments_lexer": "ipython3",
   "version": "3.6.5"
  }
 },
 "nbformat": 4,
 "nbformat_minor": 2
}
